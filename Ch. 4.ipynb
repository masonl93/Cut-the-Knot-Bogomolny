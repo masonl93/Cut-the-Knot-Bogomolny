{
 "cells": [
  {
   "cell_type": "code",
   "execution_count": 1,
   "metadata": {},
   "outputs": [],
   "source": [
    "import math\n",
    "import cmath\n",
    "import random\n",
    "import statistics\n",
    "import numpy as np\n",
    "import seaborn as sns\n",
    "import matplotlib.pyplot as plt"
   ]
  },
  {
   "cell_type": "markdown",
   "metadata": {},
   "source": [
    "# 4.1"
   ]
  },
  {
   "cell_type": "code",
   "execution_count": 52,
   "metadata": {},
   "outputs": [],
   "source": [
    "# assign example probabilities \n",
    "g = .3\n",
    "t = .2"
   ]
  },
  {
   "cell_type": "code",
   "execution_count": 53,
   "metadata": {},
   "outputs": [],
   "source": [
    "# TGT win probs\n",
    "www = t*g*t\n",
    "wwl = t*g*(1-t)\n",
    "lww = (1-t)*g*t"
   ]
  },
  {
   "cell_type": "code",
   "execution_count": 54,
   "metadata": {},
   "outputs": [
    {
     "data": {
      "text/plain": [
       "True"
      ]
     },
     "execution_count": 54,
     "metadata": {},
     "output_type": "execute_result"
    }
   ],
   "source": [
    "www+wwl == g*t"
   ]
  },
  {
   "cell_type": "code",
   "execution_count": 55,
   "metadata": {},
   "outputs": [],
   "source": [
    "# prob of being accepted by playing T, G, T\n",
    "pTGT = g*t + lww"
   ]
  },
  {
   "cell_type": "code",
   "execution_count": 56,
   "metadata": {},
   "outputs": [],
   "source": [
    "# GTG\n",
    "www = g*t*g\n",
    "wwl = g*t*(1-g)\n",
    "lww = (1-g)*t*g"
   ]
  },
  {
   "cell_type": "code",
   "execution_count": 57,
   "metadata": {},
   "outputs": [
    {
     "data": {
      "text/plain": [
       "True"
      ]
     },
     "execution_count": 57,
     "metadata": {},
     "output_type": "execute_result"
    }
   ],
   "source": [
    "www+wwl == g*t"
   ]
  },
  {
   "cell_type": "code",
   "execution_count": 58,
   "metadata": {},
   "outputs": [],
   "source": [
    "# prob of being accepted by playing G, T, G\n",
    "pGTG = g*t + lww"
   ]
  },
  {
   "cell_type": "code",
   "execution_count": 59,
   "metadata": {},
   "outputs": [
    {
     "data": {
      "text/plain": [
       "0.102"
      ]
     },
     "execution_count": 59,
     "metadata": {},
     "output_type": "execute_result"
    }
   ],
   "source": [
    "pGTG"
   ]
  },
  {
   "cell_type": "code",
   "execution_count": 60,
   "metadata": {},
   "outputs": [
    {
     "data": {
      "text/plain": [
       "0.108"
      ]
     },
     "execution_count": 60,
     "metadata": {},
     "output_type": "execute_result"
    }
   ],
   "source": [
    "pTGT"
   ]
  },
  {
   "cell_type": "code",
   "execution_count": 61,
   "metadata": {},
   "outputs": [
    {
     "data": {
      "text/plain": [
       "True"
      ]
     },
     "execution_count": 61,
     "metadata": {},
     "output_type": "execute_result"
    }
   ],
   "source": [
    "pTGT>pGTG"
   ]
  },
  {
   "cell_type": "markdown",
   "metadata": {},
   "source": [
    "# 4.2"
   ]
  },
  {
   "cell_type": "code",
   "execution_count": 114,
   "metadata": {},
   "outputs": [],
   "source": [
    "def chain(inp, boxes, prob):\n",
    "    out = inp\n",
    "    for box in range(0, boxes):\n",
    "        r = random.random()\n",
    "        if r > (1-prob):\n",
    "            out = not out\n",
    "    return out"
   ]
  },
  {
   "cell_type": "code",
   "execution_count": 115,
   "metadata": {},
   "outputs": [],
   "source": [
    "inp = True\n",
    "outs = 0\n",
    "for i in range(0, 100):\n",
    "    if chain(True, 5, .3):\n",
    "        outs += 1"
   ]
  },
  {
   "cell_type": "code",
   "execution_count": 116,
   "metadata": {},
   "outputs": [
    {
     "data": {
      "text/plain": [
       "54"
      ]
     },
     "execution_count": 116,
     "metadata": {},
     "output_type": "execute_result"
    }
   ],
   "source": [
    "outs"
   ]
  },
  {
   "cell_type": "code",
   "execution_count": 1,
   "metadata": {},
   "outputs": [],
   "source": [
    "# TODO: finish 4.2"
   ]
  },
  {
   "cell_type": "markdown",
   "metadata": {},
   "source": [
    "# 4.4"
   ]
  },
  {
   "cell_type": "code",
   "execution_count": 71,
   "metadata": {},
   "outputs": [],
   "source": [
    "def countEvens(p, n, sims=1000):\n",
    "    flips = []\n",
    "    evens = []\n",
    "    for s in range(0, sims):\n",
    "        for i in range(0, n):\n",
    "            flips.append(random.choices([0,1], [1-p, p])[0])\n",
    "        if flips.count(1)%2 == 0:\n",
    "            evens.append(1)\n",
    "        else:\n",
    "            evens.append(0)\n",
    "    return evens.count(1)/sims"
   ]
  },
  {
   "cell_type": "code",
   "execution_count": 138,
   "metadata": {},
   "outputs": [
    {
     "data": {
      "text/plain": [
       "0.507"
      ]
     },
     "execution_count": 138,
     "metadata": {},
     "output_type": "execute_result"
    }
   ],
   "source": [
    "countEvens(.9, 5)"
   ]
  },
  {
   "cell_type": "markdown",
   "metadata": {},
   "source": [
    "ANSWER = 50%"
   ]
  },
  {
   "cell_type": "code",
   "execution_count": 1,
   "metadata": {},
   "outputs": [],
   "source": [
    "# TODO: ^ this is incorrect, right answer is .5 + .5(1-2p)^n, which is basically 0.5 when n is big\n",
    "# need to understand how to incorporate n into our result - should be clearer when n is small e.g. ~5"
   ]
  },
  {
   "cell_type": "code",
   "execution_count": 117,
   "metadata": {},
   "outputs": [],
   "source": [
    "def countFlips(p, sims=1000):\n",
    "    count = []\n",
    "    for s in range(0, sims):\n",
    "        flips = []\n",
    "        while True:\n",
    "            flips.append(random.choices([0,1], [1-p, p])[0])\n",
    "            # if flips.count(1)%2 == 0:\n",
    "            if flips.count(1) == 2:\n",
    "                count.append(len(flips))\n",
    "                break\n",
    "    return statistics.mean(count)"
   ]
  },
  {
   "cell_type": "code",
   "execution_count": 131,
   "metadata": {},
   "outputs": [
    {
     "data": {
      "text/plain": [
       "4.017"
      ]
     },
     "execution_count": 131,
     "metadata": {},
     "output_type": "execute_result"
    }
   ],
   "source": [
    "countFlips(.5)"
   ]
  },
  {
   "cell_type": "code",
   "execution_count": 139,
   "metadata": {},
   "outputs": [
    {
     "data": {
      "text/plain": [
       "8.0"
      ]
     },
     "execution_count": 139,
     "metadata": {},
     "output_type": "execute_result"
    }
   ],
   "source": [
    "2/.25"
   ]
  },
  {
   "cell_type": "markdown",
   "metadata": {},
   "source": [
    "ANSWER = 2/p"
   ]
  },
  {
   "cell_type": "markdown",
   "metadata": {},
   "source": [
    "# 4.5"
   ]
  },
  {
   "cell_type": "code",
   "execution_count": 26,
   "metadata": {},
   "outputs": [],
   "source": []
  },
  {
   "cell_type": "code",
   "execution_count": 153,
   "metadata": {},
   "outputs": [],
   "source": [
    "a_win_prob = 2/3\n",
    "game_counts = []\n",
    "winner = []\n",
    "outcomes = {2:[], 3:[], 4:[], 5:[], 6:[]}\n",
    "for i in range(0, 100000):\n",
    "    a_wins = 0\n",
    "    b_wins = 0\n",
    "    while True:\n",
    "        # 0=a, 1=b\n",
    "        game = random.choices([0, 1], [a_win_prob, 1-a_win_prob])[0]\n",
    "        # print(\"round winner: \", game)\n",
    "        if game == 0:\n",
    "            a_wins +=1\n",
    "        else:\n",
    "            b_wins += 1\n",
    "        if abs(a_wins-b_wins) == 2 or a_wins+b_wins == 6:\n",
    "            break\n",
    "    game_count = a_wins+b_wins\n",
    "    # print(\"game count: \", game_count)\n",
    "    if a_wins>b_wins:\n",
    "        outcomes[game_count].append('a')\n",
    "        # winner.append('a')\n",
    "    elif b_wins>a_wins:\n",
    "        # winner.append('b')\n",
    "        outcomes[game_count].append('b')\n",
    "    else:\n",
    "        # winner.append('t')\n",
    "        outcomes[game_count].append('t')\n",
    "    game_counts.append((game_count))"
   ]
  },
  {
   "cell_type": "code",
   "execution_count": 154,
   "metadata": {},
   "outputs": [
    {
     "data": {
      "text/plain": [
       "(0.8003568274793202, 0.19964317252067978)"
      ]
     },
     "execution_count": 154,
     "metadata": {},
     "output_type": "execute_result"
    }
   ],
   "source": [
    "total = len(outcomes[2])\n",
    "outcomes[2].count('a')/total, outcomes[2].count('b')/total"
   ]
  },
  {
   "cell_type": "code",
   "execution_count": 155,
   "metadata": {},
   "outputs": [
    {
     "data": {
      "text/plain": [
       "(0.7987760395558078, 0.20122396044419227)"
      ]
     },
     "execution_count": 155,
     "metadata": {},
     "output_type": "execute_result"
    }
   ],
   "source": [
    "total = len(outcomes[4])\n",
    "outcomes[4].count('a')/total, outcomes[4].count('b')/total"
   ]
  },
  {
   "cell_type": "code",
   "execution_count": 156,
   "metadata": {},
   "outputs": [
    {
     "data": {
      "text/plain": [
       "(0.4435146443514644, 0.11508796693048344, 0.4413973887180521)"
      ]
     },
     "execution_count": 156,
     "metadata": {},
     "output_type": "execute_result"
    }
   ],
   "source": [
    "total = len(outcomes[6])\n",
    "outcomes[6].count('a')/total, outcomes[6].count('b')/total, outcomes[6].count('t')/total"
   ]
  },
  {
   "cell_type": "code",
   "execution_count": 157,
   "metadata": {},
   "outputs": [
    {
     "data": {
      "text/plain": [
       "3.28696"
      ]
     },
     "execution_count": 157,
     "metadata": {},
     "output_type": "execute_result"
    }
   ],
   "source": [
    "statistics.mean(game_counts)"
   ]
  },
  {
   "cell_type": "code",
   "execution_count": 158,
   "metadata": {},
   "outputs": [
    {
     "data": {
      "text/plain": [
       "3.2839506172839505"
      ]
     },
     "execution_count": 158,
     "metadata": {},
     "output_type": "execute_result"
    }
   ],
   "source": [
    "266/81"
   ]
  },
  {
   "cell_type": "markdown",
   "metadata": {},
   "source": [
    "E(e) = ~3.287 = 266/81"
   ]
  },
  {
   "cell_type": "markdown",
   "metadata": {},
   "source": [
    "# 4.6"
   ]
  },
  {
   "cell_type": "code",
   "execution_count": 226,
   "metadata": {},
   "outputs": [],
   "source": [
    "phone_num = \"123-456-7890\"\n",
    "known = \"123-456-789\""
   ]
  },
  {
   "cell_type": "code",
   "execution_count": 227,
   "metadata": {},
   "outputs": [],
   "source": [
    "# 2 guesses\n",
    "sims = 100000\n",
    "correct = 0\n",
    "guesses = 2\n",
    "for i in range(0, sims):\n",
    "    options = list(range(0,10))\n",
    "    for i in range(0, guesses):\n",
    "        g = random.choices(options)[0]\n",
    "        options.remove(g)\n",
    "        if g == 0:\n",
    "            correct += 1\n",
    "            break"
   ]
  },
  {
   "cell_type": "code",
   "execution_count": 228,
   "metadata": {},
   "outputs": [
    {
     "data": {
      "text/plain": [
       "0.20075"
      ]
     },
     "execution_count": 228,
     "metadata": {},
     "output_type": "execute_result"
    }
   ],
   "source": [
    "correct/sims"
   ]
  },
  {
   "cell_type": "code",
   "execution_count": 229,
   "metadata": {},
   "outputs": [],
   "source": [
    "# 2 guesses\n",
    "sims = 100000\n",
    "correct = 0\n",
    "guesses = 3\n",
    "for i in range(0, sims):\n",
    "    options = list(range(0,10))\n",
    "    for i in range(0, guesses):\n",
    "        g = random.choices(options)[0]\n",
    "        options.remove(g)\n",
    "        if g == 0:\n",
    "            correct += 1\n",
    "            break"
   ]
  },
  {
   "cell_type": "code",
   "execution_count": 230,
   "metadata": {},
   "outputs": [
    {
     "data": {
      "text/plain": [
       "0.30128"
      ]
     },
     "execution_count": 230,
     "metadata": {},
     "output_type": "execute_result"
    }
   ],
   "source": [
    "correct/sims"
   ]
  },
  {
   "cell_type": "markdown",
   "metadata": {},
   "source": [
    "2 attempts = 1/5  \n",
    "3 attempts = 3/10"
   ]
  },
  {
   "cell_type": "markdown",
   "metadata": {},
   "source": [
    "# 4.7"
   ]
  },
  {
   "cell_type": "code",
   "execution_count": 151,
   "metadata": {},
   "outputs": [
    {
     "name": "stdout",
     "output_type": "stream",
     "text": [
      "Black: 66\n",
      "White: 55\n"
     ]
    }
   ],
   "source": [
    "tot = 121\n",
    "b = 66  # 1\n",
    "w = tot-b  # 0\n",
    "print(\"Black: \" + str(b) + \"\\nWhite: \" + str(w))"
   ]
  },
  {
   "cell_type": "code",
   "execution_count": 156,
   "metadata": {},
   "outputs": [],
   "source": [
    "occ = 0\n",
    "sims = 100000\n",
    "for i in range(0, sims):\n",
    "    x = random.choices([0, 1], [(w/tot), b/tot])[0]\n",
    "    y = random.choices([0, 1], [(w/tot), b/tot])[0]\n",
    "    if x==y:\n",
    "        occ += 1"
   ]
  },
  {
   "cell_type": "code",
   "execution_count": 157,
   "metadata": {},
   "outputs": [
    {
     "data": {
      "text/plain": [
       "0.50119"
      ]
     },
     "execution_count": 157,
     "metadata": {},
     "output_type": "execute_result"
    }
   ],
   "source": [
    "occ/sims"
   ]
  },
  {
   "cell_type": "code",
   "execution_count": 2,
   "metadata": {},
   "outputs": [],
   "source": [
    "# TODO: add more conclusive way to determine answer of 65 and 55.\n",
    "# We are able to ballpark with above example, but not get a definitive answer.\n",
    "# Figure out how to prove this"
   ]
  },
  {
   "cell_type": "markdown",
   "metadata": {},
   "source": [
    "# 4.8"
   ]
  },
  {
   "cell_type": "code",
   "execution_count": 52,
   "metadata": {},
   "outputs": [],
   "source": [
    "# 0 => black\n",
    "# 1 => red\n",
    "sims = 1000"
   ]
  },
  {
   "cell_type": "code",
   "execution_count": 53,
   "metadata": {},
   "outputs": [],
   "source": [
    "profits = []\n",
    "for i in range(0, sims):\n",
    "    me = 0\n",
    "    you = 0\n",
    "    deck = [0]*26 + [1]*26\n",
    "    for i in range(0, 26):\n",
    "        x = random.choices(deck)[0]\n",
    "        deck.remove(x)\n",
    "        y = random.choices(deck)[0]\n",
    "        deck.remove(y)\n",
    "        if x==y:\n",
    "            if x == 0:\n",
    "                me += 2\n",
    "            else:\n",
    "                you += 2\n",
    "    if you >= me:\n",
    "        profits.append(-1)\n",
    "    elif me > you:\n",
    "        profits.append((me-you)*3)"
   ]
  },
  {
   "cell_type": "code",
   "execution_count": 56,
   "metadata": {},
   "outputs": [
    {
     "name": "stdout",
     "output_type": "stream",
     "text": [
      "-1\n",
      "-1.0\n"
     ]
    },
    {
     "data": {
      "text/plain": [
       "<AxesSubplot:ylabel='Count'>"
      ]
     },
     "execution_count": 56,
     "metadata": {},
     "output_type": "execute_result"
    },
    {
     "data": {
      "image/png": "[encoded data removed]",
      "text/plain": [
       "<Figure size 432x288 with 1 Axes>"
      ]
     },
     "metadata": {
      "needs_background": "light"
     },
     "output_type": "display_data"
    }
   ],
   "source": [
    "print(statistics.mean(profits))\n",
    "print(statistics.median(profits))\n",
    "sns.histplot(profits)"
   ]
  },
  {
   "cell_type": "markdown",
   "metadata": {},
   "source": [
    "# 4.9"
   ]
  },
  {
   "cell_type": "code",
   "execution_count": 33,
   "metadata": {},
   "outputs": [],
   "source": [
    "def getOnLights(d):\n",
    "    lights = []\n",
    "    for light, o in d.items():\n",
    "        if o == 1:\n",
    "            lights.append(light)\n",
    "    return lights\n",
    "\n",
    "def alternate(lights, v):\n",
    "    for light, val in lights.items():\n",
    "        if light%v == 0:\n",
    "            # Flip light on/off\n",
    "            lights[light] = 1 - lights[light]\n",
    "    return lights"
   ]
  },
  {
   "cell_type": "code",
   "execution_count": 36,
   "metadata": {},
   "outputs": [],
   "source": [
    "# Step 1\n",
    "lights = list(range(1, 101))\n",
    "lights = dict.fromkeys(lights, 1)\n",
    "\n",
    "# Step 2\n",
    "lights = alternate(lights, 2)"
   ]
  },
  {
   "cell_type": "code",
   "execution_count": 39,
   "metadata": {},
   "outputs": [],
   "source": [
    "# Step 3\n",
    "lights = alternate(lights, 3)\n",
    "\n",
    "# etc"
   ]
  },
  {
   "cell_type": "code",
   "execution_count": 57,
   "metadata": {},
   "outputs": [],
   "source": [
    "steps = list(range(2, 101))\n",
    "# Step 1\n",
    "lights = list(range(1, 101))\n",
    "lights = dict.fromkeys(lights, 1)\n",
    "\n",
    "# Steps 2 to 100\n",
    "for i in steps:\n",
    "    lights = alternate(lights, i)"
   ]
  },
  {
   "cell_type": "code",
   "execution_count": 58,
   "metadata": {},
   "outputs": [
    {
     "data": {
      "text/plain": [
       "[1, 4, 9, 16, 25, 36, 49, 64, 81, 100]"
      ]
     },
     "execution_count": 58,
     "metadata": {},
     "output_type": "execute_result"
    }
   ],
   "source": [
    "getOnLights(lights)"
   ]
  },
  {
   "cell_type": "code",
   "execution_count": 59,
   "metadata": {},
   "outputs": [
    {
     "data": {
      "text/plain": [
       "0.1"
      ]
     },
     "execution_count": 59,
     "metadata": {},
     "output_type": "execute_result"
    }
   ],
   "source": [
    "len(getOnLights(lights))/100"
   ]
  },
  {
   "cell_type": "markdown",
   "metadata": {},
   "source": [
    "# 4.10"
   ]
  },
  {
   "cell_type": "code",
   "execution_count": 26,
   "metadata": {},
   "outputs": [],
   "source": [
    "sims = 1000\n",
    "count = 0\n",
    "for i in range(0, sims):\n",
    "    bag = ['1', '2', '3', '4']\n",
    "    draw = random.sample(bag, 3)\n",
    "    draw_val = ''.join(draw)\n",
    "    if int(draw_val)%3 == 0:\n",
    "        count += 1"
   ]
  },
  {
   "cell_type": "code",
   "execution_count": 27,
   "metadata": {},
   "outputs": [
    {
     "data": {
      "text/plain": [
       "0.496"
      ]
     },
     "execution_count": 27,
     "metadata": {},
     "output_type": "execute_result"
    }
   ],
   "source": [
    "count/sims"
   ]
  },
  {
   "cell_type": "code",
   "execution_count": 28,
   "metadata": {},
   "outputs": [],
   "source": [
    "# other solution\n",
    "sims = 1000\n",
    "count = 0\n",
    "for i in range(0, sims):\n",
    "    bag = [1, 2, 3, 4]\n",
    "    draw = random.sample(bag, 3)\n",
    "    draw_sum = sum(draw)\n",
    "    if int(draw_sum)%3 == 0:\n",
    "        count += 1"
   ]
  },
  {
   "cell_type": "code",
   "execution_count": 29,
   "metadata": {},
   "outputs": [
    {
     "data": {
      "text/plain": [
       "0.513"
      ]
     },
     "execution_count": 29,
     "metadata": {},
     "output_type": "execute_result"
    }
   ],
   "source": [
    "count/sims"
   ]
  },
  {
   "cell_type": "markdown",
   "metadata": {},
   "source": [
    "# 4.12"
   ]
  },
  {
   "cell_type": "code",
   "execution_count": 3,
   "metadata": {},
   "outputs": [],
   "source": [
    "def getF(c):\n",
    "    return (c * 9/5) + 32"
   ]
  },
  {
   "cell_type": "code",
   "execution_count": 50,
   "metadata": {},
   "outputs": [],
   "source": [
    "sims = 100000\n",
    "cnt = 0\n",
    "for i in range(0, sims):\n",
    "    temp = np.random.uniform(15, 25)\n",
    "    f_round = round(getF(temp))\n",
    "    c_round = round(getF(round(temp)))\n",
    "    if c_round != f_round:\n",
    "        cnt += 1"
   ]
  },
  {
   "cell_type": "code",
   "execution_count": 51,
   "metadata": {},
   "outputs": [
    {
     "data": {
      "text/plain": [
       "0.44422"
      ]
     },
     "execution_count": 51,
     "metadata": {},
     "output_type": "execute_result"
    }
   ],
   "source": [
    "cnt/sims"
   ]
  },
  {
   "cell_type": "code",
   "execution_count": 1,
   "metadata": {},
   "outputs": [
    {
     "data": {
      "text/plain": [
       "0.4444444444444444"
      ]
     },
     "execution_count": 1,
     "metadata": {},
     "output_type": "execute_result"
    }
   ],
   "source": [
    "4/9"
   ]
  },
  {
   "cell_type": "markdown",
   "metadata": {},
   "source": [
    "# 4.13"
   ]
  },
  {
   "cell_type": "code",
   "execution_count": 87,
   "metadata": {},
   "outputs": [],
   "source": [
    "def quadForm(a, b, c):\n",
    "    d = (b**2) - (4*a*c)\n",
    "    x1 = (-b-cmath.sqrt(d))/(2*a)\n",
    "    x2 = (-b+cmath.sqrt(d))/(2*a)\n",
    "    return x1, x2"
   ]
  },
  {
   "cell_type": "code",
   "execution_count": 88,
   "metadata": {},
   "outputs": [],
   "source": [
    "sims = 100000\n",
    "cnt = 0\n",
    "for i in range(0, sims):\n",
    "    b = random.uniform(-5, 5)\n",
    "    c = random.uniform(-5, 5)\n",
    "    x1, x2 = quadForm(1, b, c)\n",
    "    positive = x1.imag == 0 and x1.real > 0 and x2.imag == 0 and x2.real > 0\n",
    "    if x1 != x2 and positive:\n",
    "        cnt += 1"
   ]
  },
  {
   "cell_type": "code",
   "execution_count": 89,
   "metadata": {},
   "outputs": [
    {
     "data": {
      "text/plain": [
       "0.89911"
      ]
     },
     "execution_count": 89,
     "metadata": {},
     "output_type": "execute_result"
    }
   ],
   "source": [
    "1- cnt/sims"
   ]
  },
  {
   "cell_type": "markdown",
   "metadata": {},
   "source": [
    "# 4.14"
   ]
  },
  {
   "cell_type": "code",
   "execution_count": 145,
   "metadata": {},
   "outputs": [],
   "source": [
    "n = 18\n",
    "sims = 10000\n",
    "p2 = 0\n",
    "for r in range(0, sims):\n",
    "    f = int(random.uniform(1, n+1))\n",
    "    i = 0\n",
    "    # print(\"Start int: \" + str(f))\n",
    "    while (f > 0):\n",
    "        i += 1\n",
    "        if f % 2 == 0:\n",
    "            # either -1 or /2\n",
    "            if f == 4:\n",
    "                f = f / 2\n",
    "            elif f == 6:\n",
    "                f = f - 1\n",
    "            else: # default\n",
    "                f = f-1\n",
    "        else:\n",
    "            # either -1 or -1 AND /2\n",
    "            if f == 1 or f == 3 or f == 7 or f == 9:\n",
    "                f = f - 1\n",
    "            elif f == 5:\n",
    "                f = (f-1)/2\n",
    "            else: # default\n",
    "                f = f-1\n",
    "#         print(\"Update int: \" + str(f))\n",
    "#     print(i)\n",
    "    if i % 2 == 0:\n",
    "        p2 += 1\n",
    "#         print(\"Winner: PLAYER 2\")\n",
    "    else:\n",
    "        pass\n",
    "#         print(\"Winner: PLAYER 1\")"
   ]
  },
  {
   "cell_type": "code",
   "execution_count": 146,
   "metadata": {},
   "outputs": [
    {
     "data": {
      "text/plain": [
       "0.4497"
      ]
     },
     "execution_count": 146,
     "metadata": {},
     "output_type": "execute_result"
    }
   ],
   "source": [
    "p2/sims"
   ]
  },
  {
   "cell_type": "code",
   "execution_count": 147,
   "metadata": {},
   "outputs": [
    {
     "data": {
      "text/plain": [
       "0.3888888888888889"
      ]
     },
     "execution_count": 147,
     "metadata": {},
     "output_type": "execute_result"
    }
   ],
   "source": [
    "7/18"
   ]
  },
  {
   "cell_type": "markdown",
   "metadata": {},
   "source": [
    "Player 2 wins in if first int == 2, 6, 8, or 10"
   ]
  },
  {
   "cell_type": "code",
   "execution_count": 148,
   "metadata": {},
   "outputs": [],
   "source": [
    "# TODO: finish this one, we are stuck in getting correct solution"
   ]
  },
  {
   "cell_type": "markdown",
   "metadata": {},
   "source": [
    "# 4.15"
   ]
  },
  {
   "cell_type": "code",
   "execution_count": 43,
   "metadata": {},
   "outputs": [],
   "source": [
    "sims = 1000\n",
    "same_cnt = 0\n",
    "ratio = 1.333\n",
    "g_cnt = 10\n",
    "# 0 = girl, 1 = boy\n",
    "for i in range(0, sims):\n",
    "    students = [0]*g_cnt + [1]*int(g_cnt*ratio)\n",
    "    select = random.sample(students, 2)\n",
    "    if select.count(1) == 2 or select.count(0) == 2:\n",
    "        same_cnt += 1"
   ]
  },
  {
   "cell_type": "code",
   "execution_count": 44,
   "metadata": {},
   "outputs": [
    {
     "data": {
      "text/plain": [
       "0.501"
      ]
     },
     "execution_count": 44,
     "metadata": {},
     "output_type": "execute_result"
    }
   ],
   "source": [
    "same_cnt/sims"
   ]
  },
  {
   "cell_type": "code",
   "execution_count": 65,
   "metadata": {},
   "outputs": [],
   "source": [
    "sims = 1000\n",
    "same_cnt = 0\n",
    "ratio = 1.333\n",
    "g_cnt = 19\n",
    "# 0 = girl, 1 = boy\n",
    "for i in range(0, sims):\n",
    "    students = [0]*g_cnt + [1]*int(g_cnt*ratio)\n",
    "    select = random.sample(students, 2)\n",
    "    if select.count(1) == 2 or select.count(0) == 2:\n",
    "        same_cnt += 1"
   ]
  },
  {
   "cell_type": "code",
   "execution_count": 66,
   "metadata": {},
   "outputs": [
    {
     "data": {
      "text/plain": [
       "0.501"
      ]
     },
     "execution_count": 66,
     "metadata": {},
     "output_type": "execute_result"
    }
   ],
   "source": [
    "same_cnt/sims"
   ]
  },
  {
   "cell_type": "code",
   "execution_count": 67,
   "metadata": {},
   "outputs": [],
   "source": [
    "# TODO: clean up use of int(), connect 1.333 to triangular numbers"
   ]
  },
  {
   "cell_type": "markdown",
   "metadata": {},
   "source": [
    "# 4.17"
   ]
  },
  {
   "cell_type": "code",
   "execution_count": 41,
   "metadata": {},
   "outputs": [],
   "source": [
    "def getAProb(p, q, r, sims=10000):\n",
    "    a_series = 0\n",
    "    for i in range(0, sims):\n",
    "        a_wins = 0\n",
    "        b_wins = 0\n",
    "        ties = 0\n",
    "        while True:\n",
    "            outcome = random.choices([0, 1, 2], [p, q, r])[0]  # 0=a, 1=b, 2=t\n",
    "            if outcome == 0:\n",
    "                a_wins += 1\n",
    "            elif outcome == 1:\n",
    "                b_wins += 1\n",
    "            else:\n",
    "                ties += 1\n",
    "            if abs(a_wins - b_wins) == 2:\n",
    "                break\n",
    "        if a_wins > b_wins:\n",
    "            a_series += 1\n",
    "    return a_series/sims"
   ]
  },
  {
   "cell_type": "code",
   "execution_count": 64,
   "metadata": {},
   "outputs": [
    {
     "data": {
      "text/plain": [
       "0.6917"
      ]
     },
     "execution_count": 64,
     "metadata": {},
     "output_type": "execute_result"
    }
   ],
   "source": [
    "p = .6\n",
    "q = .4\n",
    "r = 1 - p - q\n",
    "getAProb(p, q, r)"
   ]
  },
  {
   "cell_type": "code",
   "execution_count": 71,
   "metadata": {},
   "outputs": [
    {
     "data": {
      "text/plain": [
       "0.3086"
      ]
     },
     "execution_count": 71,
     "metadata": {},
     "output_type": "execute_result"
    }
   ],
   "source": [
    "p = .4\n",
    "q = .6\n",
    "r = 1 - p - q\n",
    "getAProb(p, q, r)"
   ]
  },
  {
   "cell_type": "code",
   "execution_count": 75,
   "metadata": {},
   "outputs": [
    {
     "data": {
      "text/plain": [
       "0.5082"
      ]
     },
     "execution_count": 75,
     "metadata": {},
     "output_type": "execute_result"
    }
   ],
   "source": [
    "p = .5\n",
    "q = .5\n",
    "r = 1 - p - q\n",
    "getAProb(p, q, r)"
   ]
  },
  {
   "cell_type": "code",
   "execution_count": 78,
   "metadata": {},
   "outputs": [
    {
     "data": {
      "text/plain": [
       "0.8443"
      ]
     },
     "execution_count": 78,
     "metadata": {},
     "output_type": "execute_result"
    }
   ],
   "source": [
    "p = .7\n",
    "q = .3\n",
    "r = 1 - p - q\n",
    "getAProb(p, q, r)"
   ]
  },
  {
   "cell_type": "code",
   "execution_count": 85,
   "metadata": {},
   "outputs": [],
   "source": [
    "p_choice = list(range(0, 10))"
   ]
  },
  {
   "cell_type": "code",
   "execution_count": 93,
   "metadata": {},
   "outputs": [],
   "source": [
    "probs = []\n",
    "for p in p_choice:\n",
    "    p_p = p/10\n",
    "    probs.append(getAProb(p_p, 1-p_p, 0))"
   ]
  },
  {
   "cell_type": "code",
   "execution_count": 94,
   "metadata": {},
   "outputs": [
    {
     "data": {
      "text/plain": [
       "[0.0, 0.0116, 0.0566, 0.1541, 0.3056, 0.5012, 0.6876, 0.8427, 0.9425, 0.9867]"
      ]
     },
     "execution_count": 94,
     "metadata": {},
     "output_type": "execute_result"
    }
   ],
   "source": [
    "probs"
   ]
  },
  {
   "cell_type": "code",
   "execution_count": 96,
   "metadata": {},
   "outputs": [
    {
     "data": {
      "text/plain": [
       "<matplotlib.collections.PathCollection at 0x20a29b6f280>"
      ]
     },
     "execution_count": 96,
     "metadata": {},
     "output_type": "execute_result"
    },
    {
     "data": {
      "image/png": "[encoded data removed]",
      "text/plain": [
       "<Figure size 432x288 with 1 Axes>"
      ]
     },
     "metadata": {
      "needs_background": "light"
     },
     "output_type": "display_data"
    }
   ],
   "source": [
    "plt.scatter(p_choice, probs)"
   ]
  },
  {
   "cell_type": "code",
   "execution_count": 97,
   "metadata": {},
   "outputs": [],
   "source": [
    " # TODO: connect graph to acutal solution of: p^2/(p^2 + q^2)"
   ]
  },
  {
   "cell_type": "code",
   "execution_count": 101,
   "metadata": {},
   "outputs": [
    {
     "data": {
      "text/plain": [
       "0.8448275862068965"
      ]
     },
     "execution_count": 101,
     "metadata": {},
     "output_type": "execute_result"
    }
   ],
   "source": [
    ".7**2/(.7**2 + .3**2)"
   ]
  },
  {
   "cell_type": "markdown",
   "metadata": {},
   "source": [
    "# 4.18"
   ]
  },
  {
   "cell_type": "code",
   "execution_count": 5,
   "metadata": {},
   "outputs": [],
   "source": [
    "c = random.choices([1, 2, 3, 4, 5])[0]"
   ]
  },
  {
   "cell_type": "code",
   "execution_count": 7,
   "metadata": {},
   "outputs": [],
   "source": [
    "# optimal strategy = leaving a multiple of 6\n",
    "# Work backwards to get this"
   ]
  },
  {
   "cell_type": "code",
   "execution_count": 35,
   "metadata": {},
   "outputs": [],
   "source": [
    "boy_wins = 0\n",
    "sims = 10000\n",
    "for i in range(0, sims):\n",
    "    c = random.choices([1, 2, 3, 4, 5])[0]\n",
    "    if c != 2:\n",
    "        continue\n",
    "    else:\n",
    "        c2 = random.choices([1, 2, 3, 4, 5])[0]\n",
    "        # we have 1/5 chance to get multiple of 6 after computer's choice\n",
    "        # just assume we need 1\n",
    "        if c2 != 1:\n",
    "            continue\n",
    "    boy_wins += 1"
   ]
  },
  {
   "cell_type": "code",
   "execution_count": 36,
   "metadata": {},
   "outputs": [
    {
     "data": {
      "text/plain": [
       "0.0396"
      ]
     },
     "execution_count": 36,
     "metadata": {},
     "output_type": "execute_result"
    }
   ],
   "source": [
    "boy_wins / sims"
   ]
  },
  {
   "cell_type": "code",
   "execution_count": 37,
   "metadata": {},
   "outputs": [
    {
     "data": {
      "text/plain": [
       "0.04"
      ]
     },
     "execution_count": 37,
     "metadata": {},
     "output_type": "execute_result"
    }
   ],
   "source": [
    "1/25"
   ]
  },
  {
   "cell_type": "markdown",
   "metadata": {},
   "source": [
    "# 4.19"
   ]
  },
  {
   "cell_type": "code",
   "execution_count": 7,
   "metadata": {},
   "outputs": [],
   "source": [
    "steps = 10000\n",
    "cnt = 0\n",
    "for i in range(0, steps):\n",
    "    val = str(2**i)\n",
    "    if int(val[0]) == 1:\n",
    "        cnt += 1"
   ]
  },
  {
   "cell_type": "code",
   "execution_count": 8,
   "metadata": {},
   "outputs": [
    {
     "data": {
      "text/plain": [
       "0.301"
      ]
     },
     "execution_count": 8,
     "metadata": {},
     "output_type": "execute_result"
    }
   ],
   "source": [
    "cnt/steps"
   ]
  },
  {
   "cell_type": "code",
   "execution_count": 10,
   "metadata": {},
   "outputs": [
    {
     "data": {
      "text/plain": [
       "0.30102999566398114"
      ]
     },
     "execution_count": 10,
     "metadata": {},
     "output_type": "execute_result"
    }
   ],
   "source": [
    "math.log(2, 10)"
   ]
  },
  {
   "cell_type": "markdown",
   "metadata": {},
   "source": [
    "# 4.20"
   ]
  },
  {
   "cell_type": "code",
   "execution_count": 8,
   "metadata": {},
   "outputs": [],
   "source": [
    "def power2(r, N, steps=10000):\n",
    "    cnt = 0\n",
    "    for i in range(0, steps):\n",
    "        val = str(2**i)\n",
    "        if int(val[:r]) == N:\n",
    "            cnt += 1\n",
    "    return cnt/steps"
   ]
  },
  {
   "cell_type": "code",
   "execution_count": 10,
   "metadata": {},
   "outputs": [
    {
     "data": {
      "text/plain": [
       "0.0348"
      ]
     },
     "execution_count": 10,
     "metadata": {},
     "output_type": "execute_result"
    }
   ],
   "source": [
    "# let r = 2\n",
    "# let N = 12\n",
    "power2(2, 12)"
   ]
  },
  {
   "cell_type": "code",
   "execution_count": 11,
   "metadata": {},
   "outputs": [
    {
     "data": {
      "text/plain": [
       "0.0322"
      ]
     },
     "execution_count": 11,
     "metadata": {},
     "output_type": "execute_result"
    }
   ],
   "source": [
    "power2(2, 13)"
   ]
  },
  {
   "cell_type": "code",
   "execution_count": 12,
   "metadata": {},
   "outputs": [
    {
     "data": {
      "text/plain": [
       "0.0299"
      ]
     },
     "execution_count": 12,
     "metadata": {},
     "output_type": "execute_result"
    }
   ],
   "source": [
    "power2(2, 14)"
   ]
  },
  {
   "cell_type": "code",
   "execution_count": 13,
   "metadata": {},
   "outputs": [
    {
     "data": {
      "text/plain": [
       "0.0222"
      ]
     },
     "execution_count": 13,
     "metadata": {},
     "output_type": "execute_result"
    }
   ],
   "source": [
    "power2(2, 19)"
   ]
  },
  {
   "cell_type": "code",
   "execution_count": 14,
   "metadata": {},
   "outputs": [
    {
     "data": {
      "text/plain": [
       "0.0377"
      ]
     },
     "execution_count": 14,
     "metadata": {},
     "output_type": "execute_result"
    }
   ],
   "source": [
    "power2(2, 11)"
   ]
  },
  {
   "cell_type": "code",
   "execution_count": 15,
   "metadata": {},
   "outputs": [
    {
     "data": {
      "text/plain": [
       "0.028"
      ]
     },
     "execution_count": 15,
     "metadata": {},
     "output_type": "execute_result"
    }
   ],
   "source": [
    "power2(2, 15)"
   ]
  },
  {
   "cell_type": "code",
   "execution_count": 16,
   "metadata": {},
   "outputs": [
    {
     "data": {
      "text/plain": [
       "0.0048"
      ]
     },
     "execution_count": 16,
     "metadata": {},
     "output_type": "execute_result"
    }
   ],
   "source": [
    "power2(2, 92)"
   ]
  },
  {
   "cell_type": "code",
   "execution_count": 17,
   "metadata": {},
   "outputs": [
    {
     "data": {
      "text/plain": [
       "0.0001"
      ]
     },
     "execution_count": 17,
     "metadata": {},
     "output_type": "execute_result"
    }
   ],
   "source": [
    "power2(4, 6437)"
   ]
  },
  {
   "cell_type": "code",
   "execution_count": 21,
   "metadata": {},
   "outputs": [
    {
     "data": {
      "text/plain": [
       "0.0001553398061376706"
      ]
     },
     "execution_count": 21,
     "metadata": {},
     "output_type": "execute_result"
    }
   ],
   "source": [
    "math.log(1+(1/6437))"
   ]
  },
  {
   "cell_type": "code",
   "execution_count": 22,
   "metadata": {},
   "outputs": [],
   "source": [
    "# TODO: understand and derive solution log(1 + 1/N)"
   ]
  },
  {
   "cell_type": "markdown",
   "metadata": {},
   "source": [
    "# 4.21"
   ]
  },
  {
   "cell_type": "code",
   "execution_count": 2,
   "metadata": {},
   "outputs": [
    {
     "data": {
      "text/plain": [
       "0.9375"
      ]
     },
     "execution_count": 2,
     "metadata": {},
     "output_type": "execute_result"
    }
   ],
   "source": [
    "# probability of one odd number i.e. not divisible by 2\n",
    "1 - (1/2)**4"
   ]
  },
  {
   "cell_type": "code",
   "execution_count": 3,
   "metadata": {},
   "outputs": [
    {
     "data": {
      "text/plain": [
       "0.9876543209876544"
      ]
     },
     "execution_count": 3,
     "metadata": {},
     "output_type": "execute_result"
    }
   ],
   "source": [
    "# probability of one number not divisible by 3\n",
    "1 - (1/3)**4"
   ]
  },
  {
   "cell_type": "code",
   "execution_count": 4,
   "metadata": {},
   "outputs": [],
   "source": [
    "# 1 - (1/p)**4\n",
    "# Solution = 1 - PRODUCT(1 - (1/p)^4), for all primes"
   ]
  },
  {
   "cell_type": "code",
   "execution_count": 5,
   "metadata": {},
   "outputs": [],
   "source": [
    "primes = [2, 3, 5, 7, 11, 13, 17, 19, 23, 29, 31, 37, 41, 43, 47, 53, 59, 61, 67, 71, 73, 79, 83, 89, 97]\n",
    "prob = None \n",
    "for p in primes:\n",
    "    step = 1 - (1/p)**4\n",
    "    if prob is None:\n",
    "        prob = step\n",
    "    else:\n",
    "        prob = prob*step"
   ]
  },
  {
   "cell_type": "code",
   "execution_count": 7,
   "metadata": {},
   "outputs": [
    {
     "data": {
      "text/plain": [
       "0.07606153016571027"
      ]
     },
     "execution_count": 7,
     "metadata": {},
     "output_type": "execute_result"
    }
   ],
   "source": [
    "1-prob"
   ]
  },
  {
   "cell_type": "markdown",
   "metadata": {},
   "source": [
    "# 4.22"
   ]
  },
  {
   "cell_type": "code",
   "execution_count": 28,
   "metadata": {},
   "outputs": [],
   "source": [
    "cnt = 0\n",
    "steps = 100000\n",
    "for i in range(1, steps):\n",
    "    cube = i**3\n",
    "    if str(cube)[-2:] == '11':\n",
    "        cnt += 1"
   ]
  },
  {
   "cell_type": "code",
   "execution_count": 29,
   "metadata": {},
   "outputs": [
    {
     "data": {
      "text/plain": [
       "0.01"
      ]
     },
     "execution_count": 29,
     "metadata": {},
     "output_type": "execute_result"
    }
   ],
   "source": [
    "cnt / steps"
   ]
  },
  {
   "cell_type": "code",
   "execution_count": 30,
   "metadata": {},
   "outputs": [
    {
     "data": {
      "text/plain": [
       "0.01"
      ]
     },
     "execution_count": 30,
     "metadata": {},
     "output_type": "execute_result"
    }
   ],
   "source": [
    "1/100"
   ]
  },
  {
   "cell_type": "code",
   "execution_count": 32,
   "metadata": {},
   "outputs": [
    {
     "data": {
      "text/plain": [
       "125"
      ]
     },
     "execution_count": 32,
     "metadata": {},
     "output_type": "execute_result"
    }
   ],
   "source": [
    "5**3"
   ]
  },
  {
   "cell_type": "code",
   "execution_count": 33,
   "metadata": {},
   "outputs": [
    {
     "name": "stdout",
     "output_type": "stream",
     "text": [
      "71\n"
     ]
    }
   ],
   "source": [
    "cnt = 0\n",
    "steps = 10000\n",
    "for i in range(1, steps):\n",
    "    cube = i**3\n",
    "    if str(cube)[-2:] == '11':\n",
    "        print(i)\n",
    "        break\n",
    "        cnt += 1"
   ]
  },
  {
   "cell_type": "code",
   "execution_count": 37,
   "metadata": {},
   "outputs": [
    {
     "data": {
      "text/plain": [
       "0"
      ]
     },
     "execution_count": 37,
     "metadata": {},
     "output_type": "execute_result"
    }
   ],
   "source": [
    "(71**3 - 11) % 100"
   ]
  },
  {
   "cell_type": "markdown",
   "metadata": {},
   "source": [
    "# 4.24"
   ]
  },
  {
   "cell_type": "code",
   "execution_count": 25,
   "metadata": {},
   "outputs": [],
   "source": [
    "# only guess if you see two of one color, guess the other color\n",
    "sims = 1000\n",
    "wins = 0\n",
    "for i in range(0, sims):\n",
    "    hats = random.choices(['r', 'b'], k=3)\n",
    "    # a sees [1], [2]\n",
    "    if hats[1] == hats[2]:\n",
    "        if hats[1] == 'b':\n",
    "            if hats[0] != 'r':\n",
    "                continue\n",
    "        elif hats[0] != 'b':\n",
    "            continue\n",
    "    # b sees [0], [2]\n",
    "    if hats[0] == hats[2]:\n",
    "        if hats[0] == 'b':\n",
    "            if hats[1] != 'r':\n",
    "                continue\n",
    "        elif hats[1] != 'b':\n",
    "            continue\n",
    "    # c sees [0], [1]\n",
    "    if hats[0] == hats[1]:\n",
    "        if hats[1] == 'b':\n",
    "            if hats[2] != 'r':\n",
    "                continue\n",
    "        elif hats[2] != 'b':\n",
    "            continue\n",
    "    wins += 1"
   ]
  },
  {
   "cell_type": "code",
   "execution_count": 26,
   "metadata": {},
   "outputs": [
    {
     "data": {
      "text/plain": [
       "0.754"
      ]
     },
     "execution_count": 26,
     "metadata": {},
     "output_type": "execute_result"
    }
   ],
   "source": [
    "wins / sims"
   ]
  },
  {
   "cell_type": "code",
   "execution_count": 27,
   "metadata": {},
   "outputs": [],
   "source": [
    "# lose when all red or all blue\n",
    "# wins 6/8 = 3/4 = 0.75"
   ]
  },
  {
   "cell_type": "markdown",
   "metadata": {},
   "source": [
    "# 4.25"
   ]
  },
  {
   "cell_type": "code",
   "execution_count": 26,
   "metadata": {},
   "outputs": [],
   "source": [
    "sims = 100000\n",
    "condition_cnt = 0\n",
    "two_cnt = 0\n",
    "for i in range(0, sims):\n",
    "    r1 = random.randint(1, 6)\n",
    "    r2 = random.randint(1, 6)\n",
    "    r3 = random.randint(1, 6)\n",
    "    if (r1+r2) == r3:\n",
    "        condition_cnt += 1\n",
    "        if any(v == 2 for v in [r1, r2, r3]):\n",
    "            two_cnt += 1"
   ]
  },
  {
   "cell_type": "code",
   "execution_count": 27,
   "metadata": {},
   "outputs": [
    {
     "data": {
      "text/plain": [
       "0.5335522558537978"
      ]
     },
     "execution_count": 27,
     "metadata": {},
     "output_type": "execute_result"
    }
   ],
   "source": [
    "two_cnt / condition_cnt"
   ]
  },
  {
   "cell_type": "code",
   "execution_count": 28,
   "metadata": {},
   "outputs": [
    {
     "data": {
      "text/plain": [
       "0.5333333333333333"
      ]
     },
     "execution_count": 28,
     "metadata": {},
     "output_type": "execute_result"
    }
   ],
   "source": [
    "8/15"
   ]
  },
  {
   "cell_type": "markdown",
   "metadata": {},
   "source": [
    "# 4.26"
   ]
  },
  {
   "cell_type": "code",
   "execution_count": 19,
   "metadata": {},
   "outputs": [],
   "source": [
    "def playRound(matchup):\n",
    "    if matchup == 'ab':\n",
    "        game = random.choices([0,1], [1-p, p])[0]\n",
    "        if game == 1:\n",
    "            return 'a'\n",
    "        else:\n",
    "            return 'b'\n",
    "    elif matchup == 'bc':\n",
    "        game = random.choices([0,1], [1-q, q])[0]\n",
    "        if game == 1:\n",
    "            return 'b'\n",
    "        else:\n",
    "            return 'c'\n",
    "    elif matchup == 'ac':\n",
    "        game = random.choices([0,1], [1-r, r])[0]\n",
    "        if game == 1:\n",
    "            return 'a'\n",
    "        else:\n",
    "            return 'c'"
   ]
  },
  {
   "cell_type": "code",
   "execution_count": 34,
   "metadata": {},
   "outputs": [],
   "source": [
    "def runSims(initial_match):\n",
    "    a_wins = 0\n",
    "    b_wins = 0\n",
    "    c_wins = 0\n",
    "    for i in range(0, sims):\n",
    "        a_score = 0\n",
    "        b_score = 0\n",
    "        c_score = 0\n",
    "        match = initial_match\n",
    "        while True:\n",
    "            outcome = playRound(match)\n",
    "            if outcome == 'a':\n",
    "                a_score += 1\n",
    "                if match == 'ab':\n",
    "                    match = 'ac'\n",
    "                else:\n",
    "                    match = 'ab'\n",
    "            if outcome == 'b':\n",
    "                b_score += 1\n",
    "                if match == 'bc':\n",
    "                    match = 'ab'\n",
    "                else:\n",
    "                    match ='bc'\n",
    "            if outcome == 'c':\n",
    "                c_score += 1\n",
    "                if match == 'ac':\n",
    "                    match = 'bc'\n",
    "                else:\n",
    "                    match = 'ac'       \n",
    "            if a_score == 2:\n",
    "                a_wins += 1\n",
    "                break\n",
    "            elif b_score == 2:\n",
    "                b_wins += 1\n",
    "                break\n",
    "            elif c_score == 2:\n",
    "                c_wins += 1\n",
    "                break\n",
    "    return a_wins, b_wins, c_wins"
   ]
  },
  {
   "cell_type": "code",
   "execution_count": 36,
   "metadata": {},
   "outputs": [],
   "source": [
    "sims = 10000\n",
    "p = .6 # a beat b\n",
    "q = .6 # b beat c\n",
    "r = .8 # a beat c"
   ]
  },
  {
   "cell_type": "code",
   "execution_count": 37,
   "metadata": {},
   "outputs": [
    {
     "data": {
      "text/plain": [
       "(0.6053, 0.3105, 0.0842)"
      ]
     },
     "execution_count": 37,
     "metadata": {},
     "output_type": "execute_result"
    }
   ],
   "source": [
    "initial_match = 'ab'\n",
    "a, b, c = runSims(initial_match)\n",
    "a/sims, b/sims, c/sims"
   ]
  },
  {
   "cell_type": "code",
   "execution_count": 38,
   "metadata": {},
   "outputs": [
    {
     "data": {
      "text/plain": [
       "(0.4833, 0.3549, 0.1618)"
      ]
     },
     "execution_count": 38,
     "metadata": {},
     "output_type": "execute_result"
    }
   ],
   "source": [
    "initial_match = 'bc'\n",
    "a, b, c = runSims(initial_match)\n",
    "a/sims, b/sims, c/sims"
   ]
  },
  {
   "cell_type": "code",
   "execution_count": 39,
   "metadata": {},
   "outputs": [
    {
     "data": {
      "text/plain": [
       "(0.637, 0.2385, 0.1245)"
      ]
     },
     "execution_count": 39,
     "metadata": {},
     "output_type": "execute_result"
    }
   ],
   "source": [
    "initial_match = 'ac'\n",
    "a, b, c = runSims(initial_match)\n",
    "a/sims, b/sims, c/sims"
   ]
  },
  {
   "cell_type": "code",
   "execution_count": 40,
   "metadata": {},
   "outputs": [],
   "source": [
    "p = .7 # a beat b\n",
    "q = .55 # b beat c\n",
    "r = .82 # a beat c"
   ]
  },
  {
   "cell_type": "code",
   "execution_count": 41,
   "metadata": {},
   "outputs": [
    {
     "data": {
      "text/plain": [
       "(0.6995, 0.2245, 0.076)"
      ]
     },
     "execution_count": 41,
     "metadata": {},
     "output_type": "execute_result"
    }
   ],
   "source": [
    "initial_match = 'ab'\n",
    "a, b, c = runSims(initial_match)\n",
    "a/sims, b/sims, c/sims"
   ]
  },
  {
   "cell_type": "code",
   "execution_count": 42,
   "metadata": {},
   "outputs": [
    {
     "data": {
      "text/plain": [
       "(0.5771, 0.2643, 0.1586)"
      ]
     },
     "execution_count": 42,
     "metadata": {},
     "output_type": "execute_result"
    }
   ],
   "source": [
    "initial_match = 'bc'\n",
    "a, b, c = runSims(initial_match)\n",
    "a/sims, b/sims, c/sims"
   ]
  },
  {
   "cell_type": "code",
   "execution_count": 43,
   "metadata": {},
   "outputs": [
    {
     "data": {
      "text/plain": [
       "(0.7169, 0.1655, 0.1176)"
      ]
     },
     "execution_count": 43,
     "metadata": {},
     "output_type": "execute_result"
    }
   ],
   "source": [
    "initial_match = 'ac'\n",
    "a, b, c = runSims(initial_match)\n",
    "a/sims, b/sims, c/sims"
   ]
  },
  {
   "cell_type": "code",
   "execution_count": 44,
   "metadata": {},
   "outputs": [],
   "source": [
    "# B should play C for best chance to win"
   ]
  },
  {
   "cell_type": "markdown",
   "metadata": {},
   "source": [
    "# 4.27"
   ]
  },
  {
   "cell_type": "code",
   "execution_count": 67,
   "metadata": {},
   "outputs": [],
   "source": [
    "sims = 10000\n",
    "doubles = 0\n",
    "for i in range(0, sims):\n",
    "    r1 = random.randrange(1,7)\n",
    "    r2 = random.randrange(1,7)\n",
    "    if r1 == r2:\n",
    "        doubles += 1"
   ]
  },
  {
   "cell_type": "code",
   "execution_count": 68,
   "metadata": {},
   "outputs": [
    {
     "data": {
      "text/plain": [
       "0.168"
      ]
     },
     "execution_count": 68,
     "metadata": {},
     "output_type": "execute_result"
    }
   ],
   "source": [
    "doubles/sims"
   ]
  },
  {
   "cell_type": "code",
   "execution_count": 69,
   "metadata": {},
   "outputs": [
    {
     "data": {
      "text/plain": [
       "0.16666666666666666"
      ]
     },
     "execution_count": 69,
     "metadata": {},
     "output_type": "execute_result"
    }
   ],
   "source": [
    "1/6"
   ]
  },
  {
   "cell_type": "code",
   "execution_count": 2,
   "metadata": {},
   "outputs": [],
   "source": [
    "# TODO: figure out how to test the same with different probability distributions\n",
    "# E.g. run using normal distrib. Not sure how to do with a range though i.e. 1 to 6"
   ]
  },
  {
   "cell_type": "markdown",
   "metadata": {},
   "source": [
    "# 4.28"
   ]
  },
  {
   "cell_type": "code",
   "execution_count": 3,
   "metadata": {},
   "outputs": [],
   "source": [
    "intervals = 12*60/5"
   ]
  },
  {
   "cell_type": "code",
   "execution_count": 12,
   "metadata": {},
   "outputs": [],
   "source": [
    "# let 1 == noon\n",
    "sims = 100000\n",
    "people = 1000\n",
    "noon = 0\n",
    "for i in range(0, sims):\n",
    "    for j in range(0, people):\n",
    "        t = random.randrange(0, 144)\n",
    "        if t == 1:\n",
    "            noon += 1\n",
    "            break"
   ]
  },
  {
   "cell_type": "code",
   "execution_count": 13,
   "metadata": {},
   "outputs": [
    {
     "data": {
      "text/plain": [
       "0.00097"
      ]
     },
     "execution_count": 13,
     "metadata": {},
     "output_type": "execute_result"
    }
   ],
   "source": [
    "(sims - noon)/sims"
   ]
  },
  {
   "cell_type": "code",
   "execution_count": 14,
   "metadata": {},
   "outputs": [
    {
     "data": {
      "text/plain": [
       "0.0009409041191358333"
      ]
     },
     "execution_count": 14,
     "metadata": {},
     "output_type": "execute_result"
    }
   ],
   "source": [
    "(1-(1/intervals))**1000"
   ]
  },
  {
   "cell_type": "code",
   "execution_count": null,
   "metadata": {},
   "outputs": [],
   "source": []
  }
 ],
 "metadata": {
  "kernelspec": {
   "display_name": "Python 3",
   "language": "python",
   "name": "python3"
  },
  "language_info": {
   "codemirror_mode": {
    "name": "ipython",
    "version": 3
   },
   "file_extension": ".py",
   "mimetype": "text/x-python",
   "name": "python",
   "nbconvert_exporter": "python",
   "pygments_lexer": "ipython3",
   "version": "3.8.5"
  }
 },
 "nbformat": 4,
 "nbformat_minor": 4
}
