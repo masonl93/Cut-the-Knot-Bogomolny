{
 "cells": [
  {
   "cell_type": "code",
   "execution_count": 23,
   "metadata": {},
   "outputs": [],
   "source": [
    "import random\n",
    "import statistics"
   ]
  },
  {
   "cell_type": "code",
   "execution_count": 57,
   "metadata": {},
   "outputs": [
    {
     "name": "stdout",
     "output_type": "stream",
     "text": [
      "4.0041\n"
     ]
    }
   ],
   "source": [
    "seq = []\n",
    "goal = ['h', 't']\n",
    "\n",
    "tosses = []\n",
    "sims = 100000\n",
    "\n",
    "for i in range(0, sims):\n",
    "    while True:\n",
    "        flip = random.randint(0, 1)\n",
    "        if flip:\n",
    "            seq.append(\"h\")\n",
    "        else:\n",
    "            seq.append(\"t\")\n",
    "        if len(seq) > 1:\n",
    "            if seq[-2:] == goal:\n",
    "                tosses.append(len(seq))\n",
    "                break\n",
    "    seq = []\n",
    "\n",
    "print(statistics.mean(tosses))"
   ]
  },
  {
   "cell_type": "code",
   "execution_count": 58,
   "metadata": {},
   "outputs": [
    {
     "name": "stdout",
     "output_type": "stream",
     "text": [
      "5.9944\n"
     ]
    }
   ],
   "source": [
    "seq = []\n",
    "goal = ['t', 't']\n",
    "tosses = []\n",
    "sims = 100000\n",
    "\n",
    "for i in range(0, sims):\n",
    "    while True:\n",
    "        flip = random.randint(0, 1)\n",
    "        if flip:\n",
    "            seq.append(\"h\")\n",
    "        else:\n",
    "            seq.append(\"t\")\n",
    "        if len(seq) > 1:\n",
    "            if seq[-2:] == goal:\n",
    "                tosses.append(len(seq))\n",
    "                break\n",
    "    seq = []\n",
    "\n",
    "print(statistics.mean(tosses))"
   ]
  },
  {
   "cell_type": "code",
   "execution_count": 63,
   "metadata": {},
   "outputs": [
    {
     "name": "stdout",
     "output_type": "stream",
     "text": [
      "74876\n",
      "25124\n",
      "2.980257920713262\n",
      "0.7450644801783155\n"
     ]
    }
   ],
   "source": [
    "seq = []\n",
    "goal_ht = ['h', 't']\n",
    "goal_tt = ['t', 't']\n",
    "tt_occ = 0\n",
    "ht_occ = 0\n",
    "sims = 100000\n",
    "\n",
    "for i in range(0, sims):\n",
    "    while True:\n",
    "        flip = random.randint(0, 1)\n",
    "        if flip:\n",
    "            seq.append(\"h\")\n",
    "        else:\n",
    "            seq.append(\"t\")\n",
    "        if len(seq) > 1:\n",
    "            if seq[-2:] == goal_ht:\n",
    "                ht_occ += 1\n",
    "                break\n",
    "            elif seq[-2:] == goal_tt:\n",
    "                tt_occ += 1\n",
    "                break\n",
    "    seq = []\n",
    "\n",
    "print(ht_occ)\n",
    "print(tt_occ)\n",
    "print(ht_occ/tt_occ)\n",
    "possible_outcomes = 4\n",
    "print(ht_occ/tt_occ/possible_outcomes)"
   ]
  },
  {
   "cell_type": "code",
   "execution_count": 66,
   "metadata": {},
   "outputs": [
    {
     "name": "stdout",
     "output_type": "stream",
     "text": [
      "49736\n",
      "50264\n",
      "0.9894954639503422\n",
      "0.4947477319751711\n"
     ]
    }
   ],
   "source": [
    "seq = []\n",
    "goal_ht = ['h', 't']\n",
    "goal_tt = ['h', 'h']  # Updated for HH\n",
    "tt_occ = 0\n",
    "ht_occ = 0\n",
    "sims = 100000\n",
    "\n",
    "for i in range(0, sims):\n",
    "    while True:\n",
    "        flip = random.randint(0, 1)\n",
    "        if flip:\n",
    "            seq.append(\"h\")\n",
    "        else:\n",
    "            seq.append(\"t\")\n",
    "        if len(seq) > 1:\n",
    "            if seq[-2:] == goal_ht:\n",
    "                ht_occ += 1\n",
    "                break\n",
    "            elif seq[-2:] == goal_tt:\n",
    "                tt_occ += 1\n",
    "                break\n",
    "    seq = []\n",
    "\n",
    "print(ht_occ)\n",
    "print(tt_occ)\n",
    "print(ht_occ/tt_occ)\n",
    "possible_outcomes = 2  # Both start w/ a heads, so only 2 possible outcomes for final toss i.e. H or T\n",
    "print(ht_occ/tt_occ/possible_outcomes)"
   ]
  },
  {
   "cell_type": "code",
   "execution_count": null,
   "metadata": {},
   "outputs": [],
   "source": []
  }
 ],
 "metadata": {
  "kernelspec": {
   "display_name": "Python 3",
   "language": "python",
   "name": "python3"
  },
  "language_info": {
   "codemirror_mode": {
    "name": "ipython",
    "version": 3
   },
   "file_extension": ".py",
   "mimetype": "text/x-python",
   "name": "python",
   "nbconvert_exporter": "python",
   "pygments_lexer": "ipython3",
   "version": "3.8.5"
  }
 },
 "nbformat": 4,
 "nbformat_minor": 4
}
