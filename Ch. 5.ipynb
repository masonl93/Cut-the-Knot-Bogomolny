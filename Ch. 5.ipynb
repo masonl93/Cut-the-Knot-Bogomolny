{
 "cells": [
  {
   "cell_type": "code",
   "execution_count": 1,
   "metadata": {},
   "outputs": [],
   "source": [
    "import math\n",
    "import cmath\n",
    "import random\n",
    "import statistics\n",
    "import numpy as np\n",
    "import seaborn as sns\n",
    "import matplotlib.pyplot as plt\n",
    "import scipy"
   ]
  },
  {
   "cell_type": "markdown",
   "metadata": {},
   "source": [
    "# 5.1"
   ]
  },
  {
   "cell_type": "code",
   "execution_count": 14,
   "metadata": {},
   "outputs": [],
   "source": [
    "sims = 100000\n",
    "cnt = 0\n",
    "for i in range(0, sims):\n",
    "    v1 = random.uniform(0, 1)\n",
    "    v2 = random.uniform(0, 1)\n",
    "    v3 = random.uniform(0, 1)\n",
    "    if (v1+v2+v3) < 1:\n",
    "        cnt += 1"
   ]
  },
  {
   "cell_type": "code",
   "execution_count": 15,
   "metadata": {},
   "outputs": [
    {
     "data": {
      "text/plain": [
       "0.16503"
      ]
     },
     "execution_count": 15,
     "metadata": {},
     "output_type": "execute_result"
    }
   ],
   "source": [
    "cnt / sims"
   ]
  },
  {
   "cell_type": "code",
   "execution_count": 16,
   "metadata": {},
   "outputs": [
    {
     "data": {
      "text/plain": [
       "0.16666666666666666"
      ]
     },
     "execution_count": 16,
     "metadata": {},
     "output_type": "execute_result"
    }
   ],
   "source": [
    "1/6"
   ]
  },
  {
   "cell_type": "code",
   "execution_count": 26,
   "metadata": {},
   "outputs": [],
   "source": [
    "# TODO: try to use np.convolve() to add the 3 boxcar plots to get the probability density function\n",
    "# Produce graph of the 3 vars added up and calculate area under the function i.e. integral\n",
    "# How do we get from interval of 0 to 3 -> 0 to 1 w/ func = x^2/2?"
   ]
  },
  {
   "cell_type": "code",
   "execution_count": 27,
   "metadata": {},
   "outputs": [
    {
     "data": {
      "text/plain": [
       "[<matplotlib.lines.Line2D at 0x19dabddfbe0>]"
      ]
     },
     "execution_count": 27,
     "metadata": {},
     "output_type": "execute_result"
    },
    {
     "data": {
      "image/png": "[encoded data removed]",
      "text/plain": [
       "<Figure size 432x288 with 1 Axes>"
      ]
     },
     "metadata": {
      "needs_background": "light"
     },
     "output_type": "display_data"
    }
   ],
   "source": [
    "x = np.linspace(0, 1)\n",
    "y = x**2/2  \n",
    "fig, ax = plt.subplots()\n",
    "ax.plot(x, y)"
   ]
  },
  {
   "cell_type": "code",
   "execution_count": 28,
   "metadata": {},
   "outputs": [
    {
     "data": {
      "text/plain": [
       "(0.16666666666666669, 1.8503717077085944e-15)"
      ]
     },
     "execution_count": 28,
     "metadata": {},
     "output_type": "execute_result"
    }
   ],
   "source": [
    "pdf = lambda x: x**2/2\n",
    "scipy.integrate.quad(pdf, 0, 1)"
   ]
  },
  {
   "cell_type": "markdown",
   "metadata": {},
   "source": [
    "# 5.2"
   ]
  },
  {
   "cell_type": "code",
   "execution_count": 2,
   "metadata": {},
   "outputs": [],
   "source": [
    "# TODO: 5.2, 5.3: need a way to get answer in python\n",
    "# Plot circles?"
   ]
  },
  {
   "cell_type": "markdown",
   "metadata": {},
   "source": [
    "# 5.4"
   ]
  },
  {
   "cell_type": "code",
   "execution_count": 46,
   "metadata": {},
   "outputs": [],
   "source": [
    "sims = 100000\n",
    "together = 0\n",
    "for i in range(0, sims):\n",
    "    f1 = random.uniform(0, 20)\n",
    "    f2 = random.uniform(0, 20)\n",
    "    if abs(f1-f2) <= 5:\n",
    "        together += 1"
   ]
  },
  {
   "cell_type": "code",
   "execution_count": 47,
   "metadata": {},
   "outputs": [
    {
     "data": {
      "text/plain": [
       "0.43758"
      ]
     },
     "execution_count": 47,
     "metadata": {},
     "output_type": "execute_result"
    }
   ],
   "source": [
    "together/sims"
   ]
  },
  {
   "cell_type": "code",
   "execution_count": 48,
   "metadata": {},
   "outputs": [
    {
     "data": {
      "text/plain": [
       "0.4375"
      ]
     },
     "execution_count": 48,
     "metadata": {},
     "output_type": "execute_result"
    }
   ],
   "source": [
    "7/16"
   ]
  },
  {
   "cell_type": "code",
   "execution_count": 49,
   "metadata": {},
   "outputs": [
    {
     "data": {
      "text/plain": [
       "(0.0, 20.0)"
      ]
     },
     "execution_count": 49,
     "metadata": {},
     "output_type": "execute_result"
    },
    {
     "data": {
      "image/png": "[encoded data removed]",
      "text/plain": [
       "<Figure size 432x288 with 1 Axes>"
      ]
     },
     "metadata": {
      "needs_background": "light"
     },
     "output_type": "display_data"
    }
   ],
   "source": [
    "fig = plt.figure()\n",
    "ax = plt.axes()\n",
    "\n",
    "x = np.linspace(0, 20,)\n",
    "ax.plot(x, x+5)\n",
    "ax.plot(x, x-5)\n",
    "plt.xlim([0, 20])\n",
    "plt.ylim([0, 20])"
   ]
  },
  {
   "cell_type": "code",
   "execution_count": 50,
   "metadata": {},
   "outputs": [],
   "source": [
    "b = 15\n",
    "h = 15\n",
    "triangle_area = 0.5*b*h\n",
    "triangle_areas = triangle_area*2\n",
    "square_area = 20*20\n",
    "prob = (square_area - triangle_areas)/square_area"
   ]
  },
  {
   "cell_type": "code",
   "execution_count": 51,
   "metadata": {},
   "outputs": [
    {
     "data": {
      "text/plain": [
       "True"
      ]
     },
     "execution_count": 51,
     "metadata": {},
     "output_type": "execute_result"
    }
   ],
   "source": [
    "prob == 7/16"
   ]
  },
  {
   "cell_type": "markdown",
   "metadata": {},
   "source": [
    "# 5.5"
   ]
  },
  {
   "cell_type": "code",
   "execution_count": 13,
   "metadata": {},
   "outputs": [],
   "source": [
    "# dart board: outer/mid/inner = 5/3/1\n",
    "outer = 5\n",
    "mid = 3\n",
    "inner = 1\n",
    "total = outer*8 + mid*8 + inner*8\n",
    "prob_1 = ((1*outer) + (1*mid) + (2*inner)) / total\n",
    "prob_2 = ((2*outer) + (1*mid) + (1*inner)) / total\n",
    "prob_3 = ((1*outer) + (2*mid) + (1*inner)) / total\n",
    "prob_4 = ((2*outer) + (1*mid) + (1*inner)) / total\n",
    "prob_5 = ((1*outer) + (1*mid) + (2*inner)) / total\n",
    "prob_6 = ((1*outer) + (2*mid) + (1*inner)) / total"
   ]
  },
  {
   "cell_type": "code",
   "execution_count": 59,
   "metadata": {},
   "outputs": [],
   "source": [
    "sims = 100000\n",
    "same_cnt = 0\n",
    "ones = 0\n",
    "twos = 0\n",
    "threes = 0\n",
    "fours = 0\n",
    "fives = 0\n",
    "sixes = 0\n",
    "for i in range(0, sims):\n",
    "    dart = random.choices([1,2,3,4,5,6],[prob_1, prob_2, prob_3, prob_4, prob_5, prob_6])[0]\n",
    "    dice = random.randint(1, 6)\n",
    "    if dart == dice:\n",
    "        same_cnt += 1\n",
    "        if dart == 1:\n",
    "            ones += 1\n",
    "        elif dart == 2:\n",
    "            twos += 1\n",
    "        elif dart == 3:\n",
    "            threes += 1\n",
    "        elif dart == 4:\n",
    "            fours += 1\n",
    "        elif dart == 5:\n",
    "            fives += 1\n",
    "        elif dart == 6:\n",
    "            sixes += 1"
   ]
  },
  {
   "cell_type": "code",
   "execution_count": 60,
   "metadata": {},
   "outputs": [
    {
     "data": {
      "text/plain": [
       "0.16518"
      ]
     },
     "execution_count": 60,
     "metadata": {},
     "output_type": "execute_result"
    }
   ],
   "source": [
    "same_cnt / sims"
   ]
  },
  {
   "cell_type": "code",
   "execution_count": 61,
   "metadata": {},
   "outputs": [
    {
     "data": {
      "text/plain": [
       "0.16666666666666666"
      ]
     },
     "execution_count": 61,
     "metadata": {},
     "output_type": "execute_result"
    }
   ],
   "source": [
    "1/6"
   ]
  },
  {
   "cell_type": "code",
   "execution_count": 62,
   "metadata": {},
   "outputs": [
    {
     "data": {
      "text/plain": [
       "(2274, 3260, 2774, 3214, 2283, 2713)"
      ]
     },
     "execution_count": 62,
     "metadata": {},
     "output_type": "execute_result"
    }
   ],
   "source": [
    "ones, twos, threes, fours, fives, sixes"
   ]
  },
  {
   "cell_type": "code",
   "execution_count": 63,
   "metadata": {},
   "outputs": [],
   "source": [
    "# two and four most likely since they have highest prob's (i.e. 2 regions on outer ring)"
   ]
  },
  {
   "cell_type": "markdown",
   "metadata": {},
   "source": [
    "# 5.6"
   ]
  },
  {
   "cell_type": "code",
   "execution_count": 11,
   "metadata": {},
   "outputs": [],
   "source": [
    "# let n = 1\n",
    "# prob. a given point is in the semicirlce = 1/2\n",
    "# prob not covered by semicircle = 1/2\n",
    "# generalized = 1/(2^n)\n",
    "# total of 2n regions so that prob. is not covered = 2n/2^-n\n",
    "# subtract by one to get prob of being covered\n",
    "def getProb(n):\n",
    "    return 1 - 2*n/(2**n)"
   ]
  },
  {
   "cell_type": "code",
   "execution_count": 12,
   "metadata": {},
   "outputs": [
    {
     "data": {
      "text/plain": [
       "0.0"
      ]
     },
     "execution_count": 12,
     "metadata": {},
     "output_type": "execute_result"
    }
   ],
   "source": [
    "getProb(1)"
   ]
  },
  {
   "cell_type": "code",
   "execution_count": 13,
   "metadata": {},
   "outputs": [
    {
     "data": {
      "text/plain": [
       "0.0"
      ]
     },
     "execution_count": 13,
     "metadata": {},
     "output_type": "execute_result"
    }
   ],
   "source": [
    "getProb(2)"
   ]
  },
  {
   "cell_type": "code",
   "execution_count": 14,
   "metadata": {},
   "outputs": [
    {
     "data": {
      "text/plain": [
       "0.25"
      ]
     },
     "execution_count": 14,
     "metadata": {},
     "output_type": "execute_result"
    }
   ],
   "source": [
    "getProb(3) "
   ]
  },
  {
   "cell_type": "code",
   "execution_count": 15,
   "metadata": {},
   "outputs": [
    {
     "data": {
      "text/plain": [
       "0.5"
      ]
     },
     "execution_count": 15,
     "metadata": {},
     "output_type": "execute_result"
    }
   ],
   "source": [
    "getProb(4)"
   ]
  },
  {
   "cell_type": "code",
   "execution_count": 16,
   "metadata": {},
   "outputs": [
    {
     "data": {
      "text/plain": [
       "0.6875"
      ]
     },
     "execution_count": 16,
     "metadata": {},
     "output_type": "execute_result"
    }
   ],
   "source": [
    "getProb(5)"
   ]
  },
  {
   "cell_type": "code",
   "execution_count": 17,
   "metadata": {},
   "outputs": [
    {
     "data": {
      "text/plain": [
       "0.8125"
      ]
     },
     "execution_count": 17,
     "metadata": {},
     "output_type": "execute_result"
    }
   ],
   "source": [
    "getProb(6)"
   ]
  },
  {
   "cell_type": "markdown",
   "metadata": {},
   "source": [
    "# 5.7"
   ]
  },
  {
   "cell_type": "code",
   "execution_count": 2,
   "metadata": {},
   "outputs": [],
   "source": [
    "# let radius of circle = 1\n",
    "# c=2*pi*r\n",
    "r = 1\n",
    "c = 2*math.pi*r\n",
    "# stretch circle out into a straight line\n",
    "# i.e. 0 to c"
   ]
  },
  {
   "cell_type": "code",
   "execution_count": 14,
   "metadata": {},
   "outputs": [
    {
     "name": "stdout",
     "output_type": "stream",
     "text": [
      "1.4536545451178984 5.746625146022929\n",
      "1.4360343031579013 5.414566874472019\n",
      "0.7421910304034999 5.174434906236995\n",
      "5.949486005978983 2.358684153521044\n",
      "0.589800115167083 5.104083557587095\n",
      "5.400056251040434 0.4145067143172292\n",
      "1.1583516936125828 5.317961491996781\n",
      "0.4959811641265056 3.9120441929737866\n",
      "4.175892133662248 0.9299820703073568\n",
      "1.881337294715425 6.207772692795979\n",
      "0.48919201580477195 6.246788496137927\n",
      "4.524354311146631 0.8406798928739025\n",
      "6.213089325647057 1.1739963361268833\n",
      "1.937165870444475 5.996067040126164\n",
      "0.22880734376023226 6.241566092146642\n",
      "0.8756759875029803 4.979259977051754\n",
      "0.23399437980701 4.851345666046355\n",
      "2.112439128913713 5.259316923597895\n",
      "1.8631991678982842 6.152892140804655\n",
      "2.2423032893004926 5.845701808432841\n",
      "5.993574794303915 1.2460419033535335\n",
      "5.4397190288031965 2.271860715985335\n",
      "6.282292411001193 0.7625874767112126\n",
      "1.600206160359177 5.29227572350312\n",
      "5.2456976221021945 0.7208312899258558\n"
     ]
    }
   ],
   "source": [
    "sims = 100\n",
    "count = 0\n",
    "for i in range(0, sims):\n",
    "    n1 = random.uniform(0, c)\n",
    "    n2 = random.uniform(0, c)\n",
    "    if abs(n2-n1) <= c/2:\n",
    "        count += 1"
   ]
  },
  {
   "cell_type": "code",
   "execution_count": 16,
   "metadata": {},
   "outputs": [],
   "source": [
    "# TODO: this is wrong, not correctly handling e.g. n1=1 and n2=5\n",
    "# when n=2, we should get 100% semicircles obviously\n",
    "# Re-do this problem, connecting to same sol'n as 5.6"
   ]
  },
  {
   "cell_type": "markdown",
   "metadata": {},
   "source": [
    "# 5.8"
   ]
  },
  {
   "cell_type": "code",
   "execution_count": 2,
   "metadata": {},
   "outputs": [],
   "source": [
    "# TODO: not sure how to solve this one..."
   ]
  },
  {
   "cell_type": "markdown",
   "metadata": {},
   "source": [
    "# 5.9"
   ]
  },
  {
   "cell_type": "code",
   "execution_count": 3,
   "metadata": {},
   "outputs": [],
   "source": [
    "# TODO: same as above"
   ]
  },
  {
   "cell_type": "markdown",
   "metadata": {},
   "source": [
    "# 5.10"
   ]
  },
  {
   "cell_type": "code",
   "execution_count": 25,
   "metadata": {},
   "outputs": [],
   "source": [
    "def getTriangleAngles(a, b, c):\n",
    "    c_ang = math.degrees(math.acos((a*a + b*b - c*c)/(2*a*b)))\n",
    "    b_ang = math.degrees(math.acos((a*a + c*c - b*b)/(2*c*a)))\n",
    "    a_ang = math.degrees(math.acos((c*c + b*b - a*a)/(2*c*b)))\n",
    "    return a_ang, b_ang, c_ang"
   ]
  },
  {
   "cell_type": "code",
   "execution_count": 38,
   "metadata": {},
   "outputs": [],
   "source": [
    "sims = 100000\n",
    "cnt = 0\n",
    "for i in range(0, sims):\n",
    "    x = random.uniform(0, 1)\n",
    "    y = random.uniform(0, 1)\n",
    "    if (x+y)<=1:\n",
    "        continue\n",
    "    a, b, c = getTriangleAngles(x, y, 1)\n",
    "    if any(ang > 90 for ang in [a,b,c]):\n",
    "        cnt += 1"
   ]
  },
  {
   "cell_type": "code",
   "execution_count": 39,
   "metadata": {},
   "outputs": [
    {
     "data": {
      "text/plain": [
       "0.28936"
      ]
     },
     "execution_count": 39,
     "metadata": {},
     "output_type": "execute_result"
    }
   ],
   "source": [
    "cnt/sims"
   ]
  },
  {
   "cell_type": "code",
   "execution_count": 40,
   "metadata": {},
   "outputs": [
    {
     "data": {
      "text/plain": [
       "0.2853981633974483"
      ]
     },
     "execution_count": 40,
     "metadata": {},
     "output_type": "execute_result"
    }
   ],
   "source": [
    "(math.pi-2)/4"
   ]
  },
  {
   "cell_type": "markdown",
   "metadata": {},
   "source": [
    "# 5.11"
   ]
  },
  {
   "cell_type": "code",
   "execution_count": 19,
   "metadata": {},
   "outputs": [],
   "source": [
    "cnt = 0\n",
    "sims = 1000\n",
    "\n",
    "# let n = 2\n",
    "n = 2\n",
    "for i in range(0, sims):\n",
    "    # chose 4 random points\n",
    "    x1 = random.uniform(0, 1)\n",
    "    x2 = random.uniform(0, 1)\n",
    "    x3 = random.uniform(0, 1)\n",
    "    x4 = random.uniform(0, 1)\n",
    "\n",
    "    # let j = 2\n",
    "    if x1 > x2:\n",
    "        j1 = [x2, x1]\n",
    "    else:\n",
    "        j1 = [x1, x2]\n",
    "    if x3 > x4:\n",
    "        j2 = [x4, x3]\n",
    "    else:\n",
    "        j2 = [x3, x4]\n",
    "    \n",
    "    if (j1[0] > j2[0] and j1[1] > j2[1]) or (j2[0] > j1[0] and j2[1] > j1[1]):\n",
    "        cnt += 1"
   ]
  },
  {
   "cell_type": "code",
   "execution_count": 20,
   "metadata": {},
   "outputs": [
    {
     "data": {
      "text/plain": [
       "0.657"
      ]
     },
     "execution_count": 20,
     "metadata": {},
     "output_type": "execute_result"
    }
   ],
   "source": [
    "cnt/sims"
   ]
  },
  {
   "cell_type": "code",
   "execution_count": 21,
   "metadata": {},
   "outputs": [],
   "source": [
    "# TODO: fix this one, not getting correct answer\n",
    "# come up with better solution and generalize the answer"
   ]
  },
  {
   "cell_type": "markdown",
   "metadata": {},
   "source": [
    "# 5.12"
   ]
  },
  {
   "cell_type": "code",
   "execution_count": 20,
   "metadata": {},
   "outputs": [],
   "source": [
    "# let 0 = white, 1 = black\n",
    "def randomBagBall(b1, b2, sims=10000):  \n",
    "    white_cnt = 0\n",
    "    for i in range(0, sims):\n",
    "        if random.choice(['b1', 'b2']) == 'b1':\n",
    "            ball = random.choice(b1)\n",
    "        else:\n",
    "            ball = random.choice(b2)\n",
    "\n",
    "        if ball == 0:\n",
    "            white_cnt += 1\n",
    "    return white_cnt/sims"
   ]
  },
  {
   "cell_type": "code",
   "execution_count": 34,
   "metadata": {},
   "outputs": [
    {
     "data": {
      "text/plain": [
       "0.4952"
      ]
     },
     "execution_count": 34,
     "metadata": {},
     "output_type": "execute_result"
    }
   ],
   "source": [
    "# All white in one bag\n",
    "b1 = [0]*10\n",
    "b2 = [1]*10\n",
    "randomBagBall(b1, b2)"
   ]
  },
  {
   "cell_type": "code",
   "execution_count": 35,
   "metadata": {},
   "outputs": [
    {
     "data": {
      "text/plain": [
       "0.4983"
      ]
     },
     "execution_count": 35,
     "metadata": {},
     "output_type": "execute_result"
    }
   ],
   "source": [
    "# half white half black each bag\n",
    "b1 = [0]*5 + [1]*5\n",
    "b2 = [0]*5 + [1]*5\n",
    "randomBagBall(b1, b2)"
   ]
  },
  {
   "cell_type": "code",
   "execution_count": 36,
   "metadata": {},
   "outputs": [
    {
     "data": {
      "text/plain": [
       "0.5045"
      ]
     },
     "execution_count": 36,
     "metadata": {},
     "output_type": "execute_result"
    }
   ],
   "source": [
    "# 7/3 white black\n",
    "b1 = [0]*7 + [1]*3\n",
    "b2 = [0]*3 + [1]*7\n",
    "randomBagBall(b1, b2)"
   ]
  },
  {
   "cell_type": "code",
   "execution_count": 38,
   "metadata": {},
   "outputs": [
    {
     "data": {
      "text/plain": [
       "0.7348"
      ]
     },
     "execution_count": 38,
     "metadata": {},
     "output_type": "execute_result"
    }
   ],
   "source": [
    "# 9/1 white, 0/10 black\n",
    "b1 = [0]*1 + [1]*0\n",
    "b2 = [0]*9 + [1]*10\n",
    "randomBagBall(b1, b2)"
   ]
  },
  {
   "cell_type": "code",
   "execution_count": 39,
   "metadata": {},
   "outputs": [
    {
     "data": {
      "text/plain": [
       "0.6098"
      ]
     },
     "execution_count": 39,
     "metadata": {},
     "output_type": "execute_result"
    }
   ],
   "source": [
    "# 7/3 white, 0/10 black\n",
    "b1 = [0]*7 + [1]*0\n",
    "b2 = [0]*3 + [1]*10\n",
    "randomBagBall(b1, b2)"
   ]
  },
  {
   "cell_type": "code",
   "execution_count": 40,
   "metadata": {},
   "outputs": [],
   "source": [
    "# 1 bag with 1 white and 0 black, the other with 9 white and 10 black\n",
    "# ~73%"
   ]
  },
  {
   "cell_type": "markdown",
   "metadata": {},
   "source": [
    "# 5.13"
   ]
  },
  {
   "cell_type": "code",
   "execution_count": 2,
   "metadata": {},
   "outputs": [],
   "source": [
    "# TODO"
   ]
  },
  {
   "cell_type": "markdown",
   "metadata": {},
   "source": [
    "# 5.14"
   ]
  },
  {
   "cell_type": "code",
   "execution_count": 3,
   "metadata": {},
   "outputs": [],
   "source": [
    "# TODO"
   ]
  },
  {
   "cell_type": "markdown",
   "metadata": {},
   "source": [
    "# 5.15"
   ]
  },
  {
   "cell_type": "code",
   "execution_count": 12,
   "metadata": {},
   "outputs": [
    {
     "data": {
      "text/plain": [
       "0.0343"
      ]
     },
     "execution_count": 12,
     "metadata": {},
     "output_type": "execute_result"
    }
   ],
   "source": [
    "# let d = 2\n",
    "sims = 10000\n",
    "cnt = 0\n",
    "for i in range(0, sims):\n",
    "    a = random.randint(10,99)\n",
    "    b = random.randint(10,99)\n",
    "    p = a*b\n",
    "    if int(str(p)[0]) == 9:\n",
    "        cnt += 1\n",
    "cnt/sims"
   ]
  },
  {
   "cell_type": "code",
   "execution_count": 13,
   "metadata": {},
   "outputs": [
    {
     "data": {
      "text/plain": [
       "0.0329"
      ]
     },
     "execution_count": 13,
     "metadata": {},
     "output_type": "execute_result"
    }
   ],
   "source": [
    "# let d = 3\n",
    "sims = 10000\n",
    "cnt = 0\n",
    "for i in range(0, sims):\n",
    "    a = random.randint(100,999)\n",
    "    b = random.randint(100,999)\n",
    "    p = a*b\n",
    "    if int(str(p)[0]) == 9:\n",
    "        cnt += 1\n",
    "cnt/sims"
   ]
  },
  {
   "cell_type": "code",
   "execution_count": 14,
   "metadata": {},
   "outputs": [
    {
     "data": {
      "text/plain": [
       "0.0315"
      ]
     },
     "execution_count": 14,
     "metadata": {},
     "output_type": "execute_result"
    }
   ],
   "source": [
    "# let d = 4\n",
    "sims = 10000\n",
    "cnt = 0\n",
    "for i in range(0, sims):\n",
    "    a = random.randint(1000,9999)\n",
    "    b = random.randint(1000,9999)\n",
    "    p = a*b\n",
    "    if int(str(p)[0]) == 9:\n",
    "        cnt += 1\n",
    "cnt/sims"
   ]
  },
  {
   "cell_type": "code",
   "execution_count": 15,
   "metadata": {},
   "outputs": [
    {
     "data": {
      "text/plain": [
       "0.0378"
      ]
     },
     "execution_count": 15,
     "metadata": {},
     "output_type": "execute_result"
    }
   ],
   "source": [
    "# let d = 10\n",
    "sims = 10000\n",
    "cnt = 0\n",
    "for i in range(0, sims):\n",
    "    a = random.randint(1000000000,9999999999)\n",
    "    b = random.randint(1000000000,9999999999)\n",
    "    p = a*b\n",
    "    if int(str(p)[0]) == 9:\n",
    "        cnt += 1\n",
    "cnt/sims"
   ]
  },
  {
   "cell_type": "code",
   "execution_count": 16,
   "metadata": {},
   "outputs": [],
   "source": [
    "# TODO: get general solution"
   ]
  },
  {
   "cell_type": "markdown",
   "metadata": {},
   "source": [
    "# 5.16"
   ]
  },
  {
   "cell_type": "code",
   "execution_count": 29,
   "metadata": {},
   "outputs": [],
   "source": [
    "# let the wire be 1 to 100\n",
    "# let there be 10 birds \n",
    "\n",
    "sims = 1000\n",
    "birds = 85\n",
    "placements = []\n",
    "for i in range(0, birds):\n",
    "    placements.append(random.randint(0,100))\n",
    "placements.sort()\n"
   ]
  },
  {
   "cell_type": "code",
   "execution_count": 30,
   "metadata": {},
   "outputs": [],
   "source": [
    "last = None\n",
    "paint = 0\n",
    "for p in placements:\n",
    "    if last is not None:\n",
    "        paint += p - last -1\n",
    "    last = p"
   ]
  },
  {
   "cell_type": "code",
   "execution_count": 32,
   "metadata": {},
   "outputs": [],
   "source": [
    "# todo: this is wrong, not sure how to deal with bird being a unit in size"
   ]
  },
  {
   "cell_type": "code",
   "execution_count": 1,
   "metadata": {},
   "outputs": [],
   "source": [
    "# TODO: come back and finish chapter 5\n",
    "# need a better way to deal w/ geometric probs"
   ]
  },
  {
   "cell_type": "code",
   "execution_count": null,
   "metadata": {},
   "outputs": [],
   "source": []
  }
 ],
 "metadata": {
  "kernelspec": {
   "display_name": "Python 3",
   "language": "python",
   "name": "python3"
  },
  "language_info": {
   "codemirror_mode": {
    "name": "ipython",
    "version": 3
   },
   "file_extension": ".py",
   "mimetype": "text/x-python",
   "name": "python",
   "nbconvert_exporter": "python",
   "pygments_lexer": "ipython3",
   "version": "3.8.5"
  }
 },
 "nbformat": 4,
 "nbformat_minor": 4
}
