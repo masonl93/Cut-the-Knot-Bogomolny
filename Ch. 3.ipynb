{
 "cells": [
  {
   "cell_type": "code",
   "execution_count": 2,
   "id": "3e1ca922-1621-44cd-9dd2-42d6af596330",
   "metadata": {
    "tags": []
   },
   "outputs": [],
   "source": [
    "import itertools\n",
    "import random\n",
    "import statistics\n",
    "\n",
    "import matplotlib.pyplot as plt\n",
    "import numpy as np\n",
    "import pandas as pd\n",
    "import seaborn as sns"
   ]
  },
  {
   "cell_type": "markdown",
   "id": "2ad1c22e-55c7-4c8c-a275-36ba78f41121",
   "metadata": {},
   "source": [
    "# 3.9"
   ]
  },
  {
   "cell_type": "code",
   "execution_count": 3,
   "id": "64e8ad23-e576-47dd-85db-750d83661414",
   "metadata": {
    "tags": []
   },
   "outputs": [
    {
     "name": "stdout",
     "output_type": "stream",
     "text": [
      "10.59275\n",
      "9.0\n"
     ]
    },
    {
     "data": {
      "text/plain": [
       "<Axes: ylabel='Count'>"
      ]
     },
     "execution_count": 3,
     "metadata": {},
     "output_type": "execute_result"
    },
    {
     "data": {
      "image/png": "[encoded data removed]",
      "text/plain": [
       "<Figure size 640x480 with 1 Axes>"
      ]
     },
     "metadata": {},
     "output_type": "display_data"
    }
   ],
   "source": [
    "# Let 1 == ace\n",
    "deck = list(itertools.product(range(1, 14), [\"Spade\", \"Heart\", \"Diamond\", \"Club\"]))\n",
    "\n",
    "positions = []\n",
    "\n",
    "for i in range(0, 100000):\n",
    "    random.shuffle(deck)\n",
    "    pos = 0\n",
    "    for j in deck:\n",
    "        pos += 1\n",
    "        if j[0] == 1:\n",
    "            positions.append(pos)\n",
    "            break\n",
    "\n",
    "# print(positions)\n",
    "print(statistics.mean(positions))\n",
    "print(statistics.median(positions))\n",
    "sns.histplot(positions, binwidth=1)"
   ]
  },
  {
   "cell_type": "markdown",
   "id": "5945f10c-6eff-464e-afa4-cca9f16c3961",
   "metadata": {},
   "source": [
    "# 3.10"
   ]
  },
  {
   "cell_type": "code",
   "execution_count": 4,
   "id": "19ab06cd-96f3-408b-bb2d-b83ca3368f21",
   "metadata": {
    "tags": []
   },
   "outputs": [
    {
     "name": "stdout",
     "output_type": "stream",
     "text": [
      "3.99016\n"
     ]
    }
   ],
   "source": [
    "seq = []\n",
    "goal = [\"h\", \"t\"]\n",
    "\n",
    "tosses = []\n",
    "sims = 100000\n",
    "\n",
    "for i in range(0, sims):\n",
    "    while True:\n",
    "        flip = random.randint(0, 1)\n",
    "        if flip:\n",
    "            seq.append(\"h\")\n",
    "        else:\n",
    "            seq.append(\"t\")\n",
    "        if len(seq) > 1:\n",
    "            if seq[-2:] == goal:\n",
    "                tosses.append(len(seq))\n",
    "                break\n",
    "    seq = []\n",
    "\n",
    "print(statistics.mean(tosses))"
   ]
  },
  {
   "cell_type": "code",
   "execution_count": 5,
   "id": "12c40bd2-164f-4130-b75a-ebbb18e4419f",
   "metadata": {
    "tags": []
   },
   "outputs": [
    {
     "name": "stdout",
     "output_type": "stream",
     "text": [
      "5.98891\n"
     ]
    }
   ],
   "source": [
    "seq = []\n",
    "goal = [\"t\", \"t\"]\n",
    "tosses = []\n",
    "sims = 100000\n",
    "\n",
    "for i in range(0, sims):\n",
    "    while True:\n",
    "        flip = random.randint(0, 1)\n",
    "        if flip:\n",
    "            seq.append(\"h\")\n",
    "        else:\n",
    "            seq.append(\"t\")\n",
    "        if len(seq) > 1:\n",
    "            if seq[-2:] == goal:\n",
    "                tosses.append(len(seq))\n",
    "                break\n",
    "    seq = []\n",
    "\n",
    "print(statistics.mean(tosses))"
   ]
  },
  {
   "cell_type": "code",
   "execution_count": 6,
   "id": "446bbfb2-815f-4563-9256-3f5b9d416e61",
   "metadata": {
    "tags": []
   },
   "outputs": [
    {
     "name": "stdout",
     "output_type": "stream",
     "text": [
      "75008\n",
      "24992\n",
      "3.001280409731114\n",
      "0.7503201024327785\n"
     ]
    }
   ],
   "source": [
    "seq = []\n",
    "goal_ht = [\"h\", \"t\"]\n",
    "goal_tt = [\"t\", \"t\"]\n",
    "tt_occ = 0\n",
    "ht_occ = 0\n",
    "sims = 100000\n",
    "\n",
    "for i in range(0, sims):\n",
    "    while True:\n",
    "        flip = random.randint(0, 1)\n",
    "        if flip:\n",
    "            seq.append(\"h\")\n",
    "        else:\n",
    "            seq.append(\"t\")\n",
    "        if len(seq) > 1:\n",
    "            if seq[-2:] == goal_ht:\n",
    "                ht_occ += 1\n",
    "                break\n",
    "            elif seq[-2:] == goal_tt:\n",
    "                tt_occ += 1\n",
    "                break\n",
    "    seq = []\n",
    "\n",
    "print(ht_occ)\n",
    "print(tt_occ)\n",
    "print(ht_occ / tt_occ)\n",
    "possible_outcomes = 4\n",
    "print(ht_occ / tt_occ / possible_outcomes)"
   ]
  },
  {
   "cell_type": "code",
   "execution_count": 7,
   "id": "23b95050-f2ef-4fb1-b114-41f601ca159c",
   "metadata": {
    "tags": []
   },
   "outputs": [
    {
     "name": "stdout",
     "output_type": "stream",
     "text": [
      "49844\n",
      "50156\n",
      "0.9937794082462716\n",
      "0.4968897041231358\n"
     ]
    }
   ],
   "source": [
    "seq = []\n",
    "goal_ht = [\"h\", \"t\"]\n",
    "goal_tt = [\"h\", \"h\"]  # Updated for HH\n",
    "tt_occ = 0\n",
    "ht_occ = 0\n",
    "sims = 100000\n",
    "\n",
    "for i in range(0, sims):\n",
    "    while True:\n",
    "        flip = random.randint(0, 1)\n",
    "        if flip:\n",
    "            seq.append(\"h\")\n",
    "        else:\n",
    "            seq.append(\"t\")\n",
    "        if len(seq) > 1:\n",
    "            if seq[-2:] == goal_ht:\n",
    "                ht_occ += 1\n",
    "                break\n",
    "            elif seq[-2:] == goal_tt:\n",
    "                tt_occ += 1\n",
    "                break\n",
    "    seq = []\n",
    "\n",
    "print(ht_occ)\n",
    "print(tt_occ)\n",
    "print(ht_occ / tt_occ)\n",
    "possible_outcomes = (\n",
    "    2  # Both start w/ a heads, so only 2 possible outcomes for final toss i.e. H or T\n",
    ")\n",
    "print(ht_occ / tt_occ / possible_outcomes)"
   ]
  },
  {
   "cell_type": "code",
   "execution_count": null,
   "id": "1487de12-1816-45b6-bdc2-8eedf89922e7",
   "metadata": {},
   "outputs": [],
   "source": []
  }
 ],
 "metadata": {
  "kernelspec": {
   "display_name": "Python 3",
   "language": "python",
   "name": "python3"
  },
  "language_info": {
   "codemirror_mode": {
    "name": "ipython",
    "version": 3
   },
   "file_extension": ".py",
   "mimetype": "text/x-python",
   "name": "python",
   "nbconvert_exporter": "python",
   "pygments_lexer": "ipython3",
   "version": "3.8.17"
  }
 },
 "nbformat": 4,
 "nbformat_minor": 5
}
