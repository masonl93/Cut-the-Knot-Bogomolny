{
 "cells": [
  {
   "cell_type": "code",
   "execution_count": 1,
   "metadata": {},
   "outputs": [],
   "source": [
    "import math\n",
    "import cmath\n",
    "import random\n",
    "import statistics\n",
    "import numpy as np\n",
    "import seaborn as sns\n",
    "import matplotlib.pyplot as plt\n",
    "import scipy\n",
    "import copy"
   ]
  },
  {
   "cell_type": "markdown",
   "metadata": {},
   "source": [
    "# 7.1"
   ]
  },
  {
   "cell_type": "code",
   "execution_count": 2,
   "metadata": {},
   "outputs": [],
   "source": [
    "# P(a_true given b_true) = p(both tell truth) / p(both lie or both tell truth)\n",
    "p_both_true = 1/3*1/3\n",
    "p_same = 1/3*1/3 + 2/3*2/3"
   ]
  },
  {
   "cell_type": "code",
   "execution_count": 3,
   "metadata": {},
   "outputs": [],
   "source": [
    "p = p_both_true / p_same"
   ]
  },
  {
   "cell_type": "code",
   "execution_count": 4,
   "metadata": {},
   "outputs": [
    {
     "data": {
      "text/plain": [
       "0.19999999999999998"
      ]
     },
     "execution_count": 4,
     "metadata": {},
     "output_type": "execute_result"
    }
   ],
   "source": [
    "p"
   ]
  },
  {
   "cell_type": "code",
   "execution_count": 5,
   "metadata": {},
   "outputs": [
    {
     "data": {
      "text/plain": [
       "0.2"
      ]
     },
     "execution_count": 5,
     "metadata": {},
     "output_type": "execute_result"
    }
   ],
   "source": [
    "1/5"
   ]
  },
  {
   "cell_type": "markdown",
   "metadata": {},
   "source": [
    "# 7.2"
   ]
  },
  {
   "cell_type": "code",
   "execution_count": 2,
   "metadata": {},
   "outputs": [],
   "source": [
    "# a_true (1/3) => b_true*c_true || b_lie*c_lie\n",
    "# a_false (2/3) => b_true*c_lie || b_lie*c_truth"
   ]
  },
  {
   "cell_type": "code",
   "execution_count": 3,
   "metadata": {},
   "outputs": [],
   "source": [
    "p = 1/3 * (1/3*1/3 + 2/3*2/3) + 2/3 * (1/3*2/3 + 2/3*1/3)"
   ]
  },
  {
   "cell_type": "code",
   "execution_count": 4,
   "metadata": {},
   "outputs": [
    {
     "data": {
      "text/plain": [
       "0.48148148148148145"
      ]
     },
     "execution_count": 4,
     "metadata": {},
     "output_type": "execute_result"
    }
   ],
   "source": [
    "p"
   ]
  },
  {
   "cell_type": "code",
   "execution_count": 5,
   "metadata": {},
   "outputs": [
    {
     "data": {
      "text/plain": [
       "0.48148148148148145"
      ]
     },
     "execution_count": 5,
     "metadata": {},
     "output_type": "execute_result"
    }
   ],
   "source": [
    "13/27"
   ]
  },
  {
   "cell_type": "markdown",
   "metadata": {},
   "source": [
    "# 7.3"
   ]
  },
  {
   "cell_type": "code",
   "execution_count": 9,
   "metadata": {},
   "outputs": [],
   "source": [
    "sims = 10000\n",
    "a_wins = 0\n",
    "b_wins = 0\n",
    "c_wins = 0\n",
    "\n",
    "for i in range(0, sims):\n",
    "    while True:\n",
    "        a = random.randint(1,6)\n",
    "        if a == 6:\n",
    "            a_wins += 1\n",
    "            break\n",
    "        b = random.randint(1,6)\n",
    "        if b == 6:\n",
    "            b_wins += 1\n",
    "            break\n",
    "        c = random.randint(1,6)\n",
    "        if c == 6:\n",
    "            c_wins += 1\n",
    "            break"
   ]
  },
  {
   "cell_type": "code",
   "execution_count": 10,
   "metadata": {},
   "outputs": [
    {
     "data": {
      "text/plain": [
       "(4032, 3276, 2692)"
      ]
     },
     "execution_count": 10,
     "metadata": {},
     "output_type": "execute_result"
    }
   ],
   "source": [
    "a_wins, b_wins, c_wins"
   ]
  },
  {
   "cell_type": "code",
   "execution_count": 11,
   "metadata": {},
   "outputs": [
    {
     "data": {
      "text/plain": [
       "0.4032"
      ]
     },
     "execution_count": 11,
     "metadata": {},
     "output_type": "execute_result"
    }
   ],
   "source": [
    "a_wins/sims"
   ]
  },
  {
   "cell_type": "code",
   "execution_count": 12,
   "metadata": {},
   "outputs": [
    {
     "data": {
      "text/plain": [
       "0.3956043956043956"
      ]
     },
     "execution_count": 12,
     "metadata": {},
     "output_type": "execute_result"
    }
   ],
   "source": [
    "36/91  # P_a = 1/6 + (5/6)**3 * P_a"
   ]
  },
  {
   "cell_type": "code",
   "execution_count": 17,
   "metadata": {},
   "outputs": [
    {
     "data": {
      "text/plain": [
       "0.3276"
      ]
     },
     "execution_count": 17,
     "metadata": {},
     "output_type": "execute_result"
    }
   ],
   "source": [
    "b_wins/sims"
   ]
  },
  {
   "cell_type": "code",
   "execution_count": 19,
   "metadata": {},
   "outputs": [
    {
     "data": {
      "text/plain": [
       "0.32967032967032966"
      ]
     },
     "execution_count": 19,
     "metadata": {},
     "output_type": "execute_result"
    }
   ],
   "source": [
    "30/91  # P_b = 5/6 * 1/6 + (5/6)**3 * P_b"
   ]
  },
  {
   "cell_type": "code",
   "execution_count": 20,
   "metadata": {},
   "outputs": [
    {
     "data": {
      "text/plain": [
       "0.2692"
      ]
     },
     "execution_count": 20,
     "metadata": {},
     "output_type": "execute_result"
    }
   ],
   "source": [
    "c_wins/sims"
   ]
  },
  {
   "cell_type": "code",
   "execution_count": 21,
   "metadata": {},
   "outputs": [
    {
     "data": {
      "text/plain": [
       "0.27472527472527475"
      ]
     },
     "execution_count": 21,
     "metadata": {},
     "output_type": "execute_result"
    }
   ],
   "source": [
    "25/91  # P_c = 5/6 * 5/6 * 1/6 + (5/6)**3 * P_c"
   ]
  },
  {
   "cell_type": "code",
   "execution_count": 22,
   "metadata": {},
   "outputs": [],
   "source": [
    "# part 2\n",
    "# given a exited the game with 36/91 chance, b exits next:\n",
    "#P_b = 1/6 + (5/6)**2 * P_b\n",
    "P_b = 6/11"
   ]
  },
  {
   "cell_type": "code",
   "execution_count": 23,
   "metadata": {},
   "outputs": [],
   "source": [
    "P_c = 5/11  # 1 - 6/11"
   ]
  },
  {
   "cell_type": "code",
   "execution_count": 24,
   "metadata": {},
   "outputs": [],
   "source": [
    "P_ab = 36/91 * P_b"
   ]
  },
  {
   "cell_type": "code",
   "execution_count": 25,
   "metadata": {},
   "outputs": [],
   "source": [
    "P_ba = 30/91 * P_c"
   ]
  },
  {
   "cell_type": "code",
   "execution_count": 26,
   "metadata": {},
   "outputs": [],
   "source": [
    "P_cb = 25/91 * P_c"
   ]
  },
  {
   "cell_type": "code",
   "execution_count": 27,
   "metadata": {},
   "outputs": [
    {
     "data": {
      "text/plain": [
       "0.21578421578421575"
      ]
     },
     "execution_count": 27,
     "metadata": {},
     "output_type": "execute_result"
    }
   ],
   "source": [
    "P_ab"
   ]
  },
  {
   "cell_type": "code",
   "execution_count": 30,
   "metadata": {},
   "outputs": [
    {
     "data": {
      "text/plain": [
       "0.21578421578421578"
      ]
     },
     "execution_count": 30,
     "metadata": {},
     "output_type": "execute_result"
    }
   ],
   "source": [
    "216/1001"
   ]
  },
  {
   "cell_type": "code",
   "execution_count": 28,
   "metadata": {},
   "outputs": [
    {
     "data": {
      "text/plain": [
       "0.14985014985014986"
      ]
     },
     "execution_count": 28,
     "metadata": {},
     "output_type": "execute_result"
    }
   ],
   "source": [
    "P_ba"
   ]
  },
  {
   "cell_type": "code",
   "execution_count": 31,
   "metadata": {},
   "outputs": [
    {
     "data": {
      "text/plain": [
       "0.14985014985014986"
      ]
     },
     "execution_count": 31,
     "metadata": {},
     "output_type": "execute_result"
    }
   ],
   "source": [
    "150/1001"
   ]
  },
  {
   "cell_type": "code",
   "execution_count": 29,
   "metadata": {},
   "outputs": [
    {
     "data": {
      "text/plain": [
       "0.12487512487512488"
      ]
     },
     "execution_count": 29,
     "metadata": {},
     "output_type": "execute_result"
    }
   ],
   "source": [
    "P_cb"
   ]
  },
  {
   "cell_type": "code",
   "execution_count": 32,
   "metadata": {},
   "outputs": [
    {
     "data": {
      "text/plain": [
       "0.12487512487512488"
      ]
     },
     "execution_count": 32,
     "metadata": {},
     "output_type": "execute_result"
    }
   ],
   "source": [
    "125/1001"
   ]
  },
  {
   "cell_type": "markdown",
   "metadata": {},
   "source": [
    "# 7.4"
   ]
  },
  {
   "cell_type": "code",
   "execution_count": 65,
   "metadata": {},
   "outputs": [
    {
     "data": {
      "text/plain": [
       "0.2222222222222222"
      ]
     },
     "execution_count": 65,
     "metadata": {},
     "output_type": "execute_result"
    }
   ],
   "source": [
    "# assume fair coin tossed first\n",
    "# 50% chance for heads, than 3 choose 2 times (2/3)^2 * (1/3)^1\n",
    ".5 * math.comb(3, 2) * (2/3)**2 * (1/3)"
   ]
  },
  {
   "cell_type": "code",
   "execution_count": 66,
   "metadata": {},
   "outputs": [
    {
     "data": {
      "text/plain": [
       "0.2222222222222222"
      ]
     },
     "execution_count": 66,
     "metadata": {},
     "output_type": "execute_result"
    }
   ],
   "source": [
    "2/9"
   ]
  },
  {
   "cell_type": "code",
   "execution_count": 67,
   "metadata": {},
   "outputs": [
    {
     "data": {
      "text/plain": [
       "0.25"
      ]
     },
     "execution_count": 67,
     "metadata": {},
     "output_type": "execute_result"
    }
   ],
   "source": [
    "# assume bias coin tossed first\n",
    "# 66% chance for heads, than 3 choose 2 times (1/2)^2 * (1/2)^1\n",
    "(2/3) * math.comb(3, 2) * (1/2)**2 * (1/2)"
   ]
  },
  {
   "cell_type": "code",
   "execution_count": 68,
   "metadata": {},
   "outputs": [
    {
     "data": {
      "text/plain": [
       "0.25"
      ]
     },
     "execution_count": 68,
     "metadata": {},
     "output_type": "execute_result"
    }
   ],
   "source": [
    "1/4"
   ]
  },
  {
   "cell_type": "code",
   "execution_count": 71,
   "metadata": {},
   "outputs": [],
   "source": [
    "# more likely for bias coin to be tossed first"
   ]
  },
  {
   "cell_type": "markdown",
   "metadata": {},
   "source": [
    "# 7.5"
   ]
  },
  {
   "cell_type": "code",
   "execution_count": 11,
   "metadata": {},
   "outputs": [],
   "source": [
    "# todo"
   ]
  },
  {
   "cell_type": "markdown",
   "metadata": {},
   "source": [
    "# 7.6"
   ]
  },
  {
   "cell_type": "code",
   "execution_count": 18,
   "metadata": {},
   "outputs": [
    {
     "name": "stdout",
     "output_type": "stream",
     "text": [
      "1.0134857591446493\n",
      "2.525143524741968\n",
      "1.1440568224167162\n",
      "1.2622975080475516\n",
      "1.1454445675732496\n",
      "7.467808390914679\n",
      "1.0543932398304843\n",
      "1.3561363476590584\n",
      "1.5001362348433627\n",
      "5.804924665961656\n"
     ]
    }
   ],
   "source": [
    "sims = 10\n",
    "cnt = 0\n",
    "\n",
    "for i in range(0, sims):\n",
    "    x = random.uniform(0, 1)\n",
    "    y = random.uniform(x, 1)\n",
    "    r = max(x,y) / min(x,y)\n",
    "    print(r)"
   ]
  },
  {
   "cell_type": "code",
   "execution_count": 15,
   "metadata": {},
   "outputs": [
    {
     "data": {
      "text/plain": [
       "2"
      ]
     },
     "execution_count": 15,
     "metadata": {},
     "output_type": "execute_result"
    }
   ],
   "source": [
    "min(5, 2)"
   ]
  },
  {
   "cell_type": "code",
   "execution_count": 19,
   "metadata": {},
   "outputs": [],
   "source": [
    "# todo: generalized k solution"
   ]
  },
  {
   "cell_type": "markdown",
   "metadata": {},
   "source": [
    "# 7.7"
   ]
  },
  {
   "cell_type": "code",
   "execution_count": 2,
   "metadata": {},
   "outputs": [],
   "source": [
    "# TODO"
   ]
  },
  {
   "cell_type": "markdown",
   "metadata": {},
   "source": [
    "# 7.8"
   ]
  },
  {
   "cell_type": "markdown",
   "metadata": {},
   "source": [
    "First guy has 1/100 of randomly picking his seat, 99/100 chance he picks someone elses  \n",
    "If he picks his, then the last guy will get his normal seat  \n",
    "If he doesn't, then next guy has 1/99 chance to pick first guy's seat and everyone else gets their seat, and a 98/99 he picks someone elses.  \n",
    "If you continue this logic, the last guy has 1/2 chance to pick first guy's seat or his seat, hence answer is 1/2"
   ]
  },
  {
   "cell_type": "markdown",
   "metadata": {},
   "source": [
    "# 7.9"
   ]
  },
  {
   "cell_type": "code",
   "execution_count": 37,
   "metadata": {},
   "outputs": [],
   "source": [
    "# part 1\n",
    "p1 = 1/3  # two boys and one girl left"
   ]
  },
  {
   "cell_type": "code",
   "execution_count": 12,
   "metadata": {},
   "outputs": [],
   "source": [
    "# simulation\n",
    "cnt = 0\n",
    "situation_cnt = 0\n",
    "sims = 10000\n",
    "students = ['b', 'b', 'f', 'f']\n",
    "\n",
    "for i in range(0, sims):\n",
    "    winners = random.sample(students, 2)\n",
    "    if winners[0] == 'f':\n",
    "        situation_cnt += 1\n",
    "        if winners[1] == 'f':\n",
    "            cnt += 1"
   ]
  },
  {
   "cell_type": "code",
   "execution_count": 13,
   "metadata": {},
   "outputs": [
    {
     "data": {
      "text/plain": [
       "0.333068678046844"
      ]
     },
     "execution_count": 13,
     "metadata": {},
     "output_type": "execute_result"
    }
   ],
   "source": [
    "cnt/situation_cnt"
   ]
  },
  {
   "cell_type": "code",
   "execution_count": 38,
   "metadata": {},
   "outputs": [],
   "source": [
    "# part 2\n",
    "p2 = 1/3"
   ]
  },
  {
   "cell_type": "code",
   "execution_count": 28,
   "metadata": {},
   "outputs": [],
   "source": [
    "# simulation\n",
    "cnt = 0\n",
    "situation_cnt = 0\n",
    "sims = 10000\n",
    "students = ['b', 'b', 'f', 'f']\n",
    "\n",
    "for i in range(0, sims):\n",
    "    winners = random.sample(students, 2)\n",
    "    if winners[1] == 'f':\n",
    "        situation_cnt += 1\n",
    "        if winners[0] == 'f':\n",
    "            cnt += 1"
   ]
  },
  {
   "cell_type": "code",
   "execution_count": 29,
   "metadata": {},
   "outputs": [
    {
     "data": {
      "text/plain": [
       "0.3279903826888399"
      ]
     },
     "execution_count": 29,
     "metadata": {},
     "output_type": "execute_result"
    }
   ],
   "source": [
    "cnt/situation_cnt"
   ]
  },
  {
   "cell_type": "code",
   "execution_count": 41,
   "metadata": {},
   "outputs": [
    {
     "data": {
      "text/plain": [
       "0.3333333333333333"
      ]
     },
     "execution_count": 41,
     "metadata": {},
     "output_type": "execute_result"
    }
   ],
   "source": [
    "# part 3\n",
    "\n",
    "# equally likely pt1 and pt2 happened\n",
    "0.5 * p1 + 0.5 * p2"
   ]
  },
  {
   "cell_type": "code",
   "execution_count": 42,
   "metadata": {},
   "outputs": [],
   "source": [
    "p3 = 1/3"
   ]
  },
  {
   "cell_type": "code",
   "execution_count": 43,
   "metadata": {},
   "outputs": [
    {
     "data": {
      "text/plain": [
       "0.19745833832873755"
      ]
     },
     "execution_count": 43,
     "metadata": {},
     "output_type": "execute_result"
    }
   ],
   "source": [
    "cnt/situation_cnt"
   ]
  },
  {
   "cell_type": "code",
   "execution_count": 44,
   "metadata": {},
   "outputs": [],
   "source": [
    "# part 4\n",
    "\n",
    "# simulation\n",
    "cnt = 0\n",
    "situation_cnt = 0\n",
    "sims = 10000\n",
    "students = ['b', 'b', 'f', 'f']\n",
    "\n",
    "for i in range(0, sims):\n",
    "    winners = random.sample(students, 2)\n",
    "    if 'f' in winners:\n",
    "        situation_cnt += 1\n",
    "        if winners[0] == 'f' and winners[1] == 'f':\n",
    "            cnt += 1"
   ]
  },
  {
   "cell_type": "code",
   "execution_count": 45,
   "metadata": {},
   "outputs": [
    {
     "data": {
      "text/plain": [
       "0.19947443860487338"
      ]
     },
     "execution_count": 45,
     "metadata": {},
     "output_type": "execute_result"
    }
   ],
   "source": [
    "cnt/situation_cnt"
   ]
  },
  {
   "cell_type": "code",
   "execution_count": 46,
   "metadata": {},
   "outputs": [],
   "source": [
    "p4 = .2"
   ]
  },
  {
   "cell_type": "markdown",
   "metadata": {},
   "source": [
    "# 7.10"
   ]
  },
  {
   "cell_type": "code",
   "execution_count": 55,
   "metadata": {},
   "outputs": [],
   "source": [
    "def genDrawers():\n",
    "    drawers = {1: [], 2: [], 3:[], 4: [], 5: [], 6: [], 7: [], 8: [], 'lost': []}\n",
    "    \n",
    "    for i in range(0, 10):\n",
    "        # check if it will be lot\n",
    "        lost = random.choices([0, 1], [.8, .2])[0]\n",
    "        if lost == 1:\n",
    "            drawers['lost'].append(i)\n",
    "        else:\n",
    "            d = random.randint(1, 8)\n",
    "            drawers[d].append(i)\n",
    "    \n",
    "    return drawers"
   ]
  },
  {
   "cell_type": "code",
   "execution_count": 60,
   "metadata": {},
   "outputs": [],
   "source": [
    "# part 1\n",
    "\n",
    "sims = 10000\n",
    "situation_cnt = 0\n",
    "cnt = 0 \n",
    "\n",
    "for i in range(0, sims):\n",
    "    d = genDrawers()\n",
    "    if len(d[1]) == 0:\n",
    "        situation_cnt += 1\n",
    "        doc = random.randint(0, 9)\n",
    "        if doc not in d['lost']:\n",
    "            cnt += 1"
   ]
  },
  {
   "cell_type": "code",
   "execution_count": 61,
   "metadata": {},
   "outputs": [
    {
     "data": {
      "text/plain": [
       "0.7810281170122124"
      ]
     },
     "execution_count": 61,
     "metadata": {},
     "output_type": "execute_result"
    }
   ],
   "source": [
    "cnt / situation_cnt"
   ]
  },
  {
   "cell_type": "code",
   "execution_count": 62,
   "metadata": {},
   "outputs": [
    {
     "data": {
      "text/plain": [
       "0.7777777777777778"
      ]
     },
     "execution_count": 62,
     "metadata": {},
     "output_type": "execute_result"
    }
   ],
   "source": [
    "7/9"
   ]
  },
  {
   "cell_type": "code",
   "execution_count": 66,
   "metadata": {},
   "outputs": [],
   "source": [
    "# part 2\n",
    "\n",
    "sims = 100000\n",
    "situation_cnt = 0\n",
    "cnt = 0 \n",
    "\n",
    "for i in range(0, sims):\n",
    "    d = genDrawers()\n",
    "    if len(d[1]) == 0 and len(d[2]) == 0 and len(d[3]) == 0 and len(d[4]) == 0:\n",
    "        situation_cnt += 1\n",
    "        doc = random.randint(0, 9)\n",
    "        if doc not in d['lost']:\n",
    "            cnt += 1"
   ]
  },
  {
   "cell_type": "code",
   "execution_count": 67,
   "metadata": {},
   "outputs": [
    {
     "data": {
      "text/plain": [
       "0.6642984014209592"
      ]
     },
     "execution_count": 67,
     "metadata": {},
     "output_type": "execute_result"
    }
   ],
   "source": [
    "cnt / situation_cnt"
   ]
  },
  {
   "cell_type": "code",
   "execution_count": 68,
   "metadata": {},
   "outputs": [
    {
     "data": {
      "text/plain": [
       "0.6666666666666666"
      ]
     },
     "execution_count": 68,
     "metadata": {},
     "output_type": "execute_result"
    }
   ],
   "source": [
    "2/3"
   ]
  },
  {
   "cell_type": "code",
   "execution_count": 72,
   "metadata": {},
   "outputs": [],
   "source": [
    "# part 3\n",
    "\n",
    "sims = 100000\n",
    "situation_cnt = 0\n",
    "cnt = 0 \n",
    "\n",
    "for i in range(0, sims):\n",
    "    d = genDrawers()\n",
    "    if (len(d[8]) + len(d['lost'])) == 10:\n",
    "        situation_cnt += 1\n",
    "        doc = random.randint(0, 9)\n",
    "        if doc not in d['lost']:\n",
    "            cnt += 1"
   ]
  },
  {
   "cell_type": "code",
   "execution_count": 73,
   "metadata": {},
   "outputs": [
    {
     "ename": "ZeroDivisionError",
     "evalue": "division by zero",
     "output_type": "error",
     "traceback": [
      "\u001b[1;31m---------------------------------------------------------------------------\u001b[0m",
      "\u001b[1;31mZeroDivisionError\u001b[0m                         Traceback (most recent call last)",
      "\u001b[1;32m<ipython-input-73-7fb430f1280a>\u001b[0m in \u001b[0;36m<module>\u001b[1;34m\u001b[0m\n\u001b[1;32m----> 1\u001b[1;33m \u001b[0mcnt\u001b[0m \u001b[1;33m/\u001b[0m \u001b[0msituation_cnt\u001b[0m\u001b[1;33m\u001b[0m\u001b[1;33m\u001b[0m\u001b[0m\n\u001b[0m",
      "\u001b[1;31mZeroDivisionError\u001b[0m: division by zero"
     ]
    }
   ],
   "source": [
    "cnt / situation_cnt"
   ]
  },
  {
   "cell_type": "code",
   "execution_count": 83,
   "metadata": {},
   "outputs": [],
   "source": [
    "# too rare of an event\n",
    "# TODO: how to prove\n",
    "# first part was 7:2 or 7/9\n",
    "# second part was 4:2 or 4/6\n",
    "# third part is 1:2 or 1/3"
   ]
  },
  {
   "cell_type": "markdown",
   "metadata": {},
   "source": [
    "# 7.11"
   ]
  },
  {
   "cell_type": "code",
   "execution_count": 9,
   "metadata": {},
   "outputs": [],
   "source": [
    "p_mammo = .8\n",
    "p_cancer = .01\n",
    "p_benign = .99\n",
    "p_incorrect_benign = .1  # 1 - .9"
   ]
  },
  {
   "cell_type": "code",
   "execution_count": 10,
   "metadata": {},
   "outputs": [
    {
     "data": {
      "text/plain": [
       "0.07476635514018691"
      ]
     },
     "execution_count": 10,
     "metadata": {},
     "output_type": "execute_result"
    }
   ],
   "source": [
    "(p_mammo * p_cancer) / ((p_mammo * p_cancer) + (p_benign * p_incorrect_benign))"
   ]
  },
  {
   "cell_type": "code",
   "execution_count": 13,
   "metadata": {},
   "outputs": [],
   "source": [
    "# 7.5%"
   ]
  },
  {
   "cell_type": "code",
   "execution_count": 2,
   "metadata": {},
   "outputs": [],
   "source": [
    "# todo: how to do bayes theorm in a for loop?"
   ]
  },
  {
   "cell_type": "markdown",
   "metadata": {},
   "source": [
    "# 7.12"
   ]
  },
  {
   "cell_type": "code",
   "execution_count": 2,
   "metadata": {},
   "outputs": [],
   "source": [
    "# write out all possibilites:\n",
    "# HHH, HHT, HTH, etc\n",
    "# total of 8\n",
    "\n",
    "# part 1\n",
    "# todo - how did they get this\n",
    "p1 = 1/3"
   ]
  },
  {
   "cell_type": "code",
   "execution_count": 15,
   "metadata": {},
   "outputs": [],
   "source": [
    "# part 2\n",
    "p2 = 2/4  # 1/2"
   ]
  },
  {
   "cell_type": "code",
   "execution_count": 16,
   "metadata": {},
   "outputs": [],
   "source": [
    "# part 3\n",
    "# combine pt 1 and pt 2\n",
    "p3 = p2*.5 + p1*.5"
   ]
  },
  {
   "cell_type": "code",
   "execution_count": 17,
   "metadata": {},
   "outputs": [
    {
     "data": {
      "text/plain": [
       "0.41666666666666663"
      ]
     },
     "execution_count": 17,
     "metadata": {},
     "output_type": "execute_result"
    }
   ],
   "source": [
    "p3"
   ]
  },
  {
   "cell_type": "code",
   "execution_count": 18,
   "metadata": {},
   "outputs": [
    {
     "data": {
      "text/plain": [
       "0.4166666666666667"
      ]
     },
     "execution_count": 18,
     "metadata": {},
     "output_type": "execute_result"
    }
   ],
   "source": [
    "5/12"
   ]
  },
  {
   "cell_type": "markdown",
   "metadata": {},
   "source": [
    "# 7.13"
   ]
  },
  {
   "cell_type": "code",
   "execution_count": 26,
   "metadata": {},
   "outputs": [],
   "source": [
    "def allOdd(s):\n",
    "    for x in s:\n",
    "        if x%2 == 0:\n",
    "            return False\n",
    "    return True\n",
    "\n",
    "\n",
    "cnt = 0\n",
    "sims = 100000\n",
    "\n",
    "nums = list(range(1, 10))\n",
    "\n",
    "for i in range(0, sims):\n",
    "    random.shuffle(nums)\n",
    "    s1 = nums[:3]\n",
    "    s2 = nums[3:6]\n",
    "    s3 = nums[6:]\n",
    "    if allOdd(s1) or allOdd(s2) or allOdd(s3):\n",
    "        cnt += 1"
   ]
  },
  {
   "cell_type": "code",
   "execution_count": 27,
   "metadata": {},
   "outputs": [
    {
     "data": {
      "text/plain": [
       "0.35892"
      ]
     },
     "execution_count": 27,
     "metadata": {},
     "output_type": "execute_result"
    }
   ],
   "source": [
    "cnt/sims"
   ]
  },
  {
   "cell_type": "code",
   "execution_count": 32,
   "metadata": {},
   "outputs": [
    {
     "data": {
      "text/plain": [
       "0.35714285714285715"
      ]
     },
     "execution_count": 32,
     "metadata": {},
     "output_type": "execute_result"
    }
   ],
   "source": [
    "5/14"
   ]
  },
  {
   "cell_type": "markdown",
   "metadata": {},
   "source": [
    "# 7.14"
   ]
  },
  {
   "cell_type": "markdown",
   "metadata": {},
   "source": [
    "1/2 chance since we theoretically just took out the one we put in."
   ]
  },
  {
   "cell_type": "markdown",
   "metadata": {},
   "source": [
    "# 7.15"
   ]
  },
  {
   "cell_type": "markdown",
   "metadata": {},
   "source": [
    "Probability that white was pulled from first bag:\n",
    "\n",
    "w/(w+b)\n",
    "\n",
    "For second bag, since we know there's another white in there:\n",
    "\n",
    "2w/(2w+b)"
   ]
  },
  {
   "cell_type": "markdown",
   "metadata": {},
   "source": [
    "# 7.16"
   ]
  },
  {
   "cell_type": "code",
   "execution_count": 2,
   "metadata": {},
   "outputs": [],
   "source": [
    "# P(M|R) = P(R|M) * P(M) / P(R)\n",
    "# P(R) = P(R|M) * P(M) + P(R|F) * P(F)\n",
    "\n",
    "P_r = .95 * .1 + .08 * .9\n",
    "P_mr = .95 * .1 / P_r"
   ]
  },
  {
   "cell_type": "code",
   "execution_count": 3,
   "metadata": {},
   "outputs": [
    {
     "data": {
      "text/plain": [
       "0.5688622754491017"
      ]
     },
     "execution_count": 3,
     "metadata": {},
     "output_type": "execute_result"
    }
   ],
   "source": [
    "P_mr"
   ]
  },
  {
   "cell_type": "markdown",
   "metadata": {},
   "source": [
    "# 7.17"
   ]
  },
  {
   "cell_type": "code",
   "execution_count": 38,
   "metadata": {},
   "outputs": [],
   "source": [
    "p_daring_w = .45\n",
    "p_daring_l = .55\n",
    "p_conserv_d = .9\n",
    "p_conserv_l = .1"
   ]
  },
  {
   "cell_type": "code",
   "execution_count": 48,
   "metadata": {},
   "outputs": [],
   "source": [
    "# play daring at the beginning, else we'd never get a win\n",
    "# play daring when losing or tied, else we'll always lost\n",
    "# play conservative when winning since a win then draw will allow us to win the match\n",
    "\n",
    "sims = 100000\n",
    "cnt = 0\n",
    "\n",
    "for i in range(0, sims):\n",
    "    winners = []\n",
    "    while True:\n",
    "        # first game\n",
    "        if i == 0:\n",
    "            win = random.choices([0,1], [p_daring_l, p_daring_w])[0]\n",
    "            if win == 1:\n",
    "                winners.append('a')\n",
    "            else:\n",
    "                winners.append('b')\n",
    "        # a winning\n",
    "        elif winners.count('a') > winners.count('b'):\n",
    "            win = random.choices([0,1], [p_conserv_l, p_conserv_d])[0]\n",
    "            if win == 1:\n",
    "                winners.append('d')\n",
    "            else:\n",
    "                winners.append('b')\n",
    "        # a losing or tied\n",
    "        elif winners.count('a') <= winners.count('b'):\n",
    "            win = random.choices([0,1], [p_daring_l, p_daring_w])[0]\n",
    "            if win == 1:\n",
    "                winners.append('a')\n",
    "            else:\n",
    "                winners.append('b')\n",
    "        # print(winners)\n",
    "        if len(winners) >= 2:\n",
    "            # a won\n",
    "            if winners.count('a') > winners.count('b'):\n",
    "                cnt += 1\n",
    "                # print('game over, a won')\n",
    "                break\n",
    "            # a lost\n",
    "            elif winners.count('a') < winners.count('b'):\n",
    "                # print('game over, b won')\n",
    "                break"
   ]
  },
  {
   "cell_type": "code",
   "execution_count": 49,
   "metadata": {},
   "outputs": [
    {
     "data": {
      "text/plain": [
       "0.5371"
      ]
     },
     "execution_count": 49,
     "metadata": {},
     "output_type": "execute_result"
    }
   ],
   "source": [
    "cnt/sims"
   ]
  },
  {
   "cell_type": "code",
   "execution_count": 50,
   "metadata": {},
   "outputs": [
    {
     "data": {
      "text/plain": [
       "0.536625"
      ]
     },
     "execution_count": 50,
     "metadata": {},
     "output_type": "execute_result"
    }
   ],
   "source": [
    "tie_breaker_needed = .55 * .45 + .45 * .1\n",
    "p_daring_w * p_conserv_d + p_daring_w*tie_breaker_needed"
   ]
  },
  {
   "cell_type": "markdown",
   "metadata": {},
   "source": [
    "# 7.18"
   ]
  },
  {
   "cell_type": "code",
   "execution_count": 2,
   "metadata": {},
   "outputs": [],
   "source": [
    "# possible configs:\n",
    "# 1, 4\n",
    "# 2, 4\n",
    "# 3\n",
    "p_corner = 1/3"
   ]
  },
  {
   "cell_type": "code",
   "execution_count": 3,
   "metadata": {},
   "outputs": [],
   "source": [
    "# 4 is most common, since it has a chicken 2/3\n",
    "p_4 = 2/3"
   ]
  },
  {
   "cell_type": "markdown",
   "metadata": {},
   "source": [
    "# 7.19"
   ]
  },
  {
   "cell_type": "code",
   "execution_count": 2,
   "metadata": {},
   "outputs": [],
   "source": [
    "# possible configs:\n",
    "# 1, 3\n",
    "# 1, 4\n",
    "# 2, 3\n",
    "# 2, 4\n",
    "# 3, 4\n",
    "p_corner = 3/5"
   ]
  },
  {
   "cell_type": "code",
   "execution_count": 3,
   "metadata": {},
   "outputs": [],
   "source": [
    "# 3 and 4 equally likely\n",
    "p = 3/5"
   ]
  },
  {
   "cell_type": "markdown",
   "metadata": {},
   "source": [
    "# 7.20"
   ]
  },
  {
   "cell_type": "code",
   "execution_count": 2,
   "metadata": {},
   "outputs": [],
   "source": [
    "# possible configs:\n",
    "# 1, 3\n",
    "# 1, 4\n",
    "# 2, 3\n",
    "# 2, 4\n",
    "# 3, 3\n",
    "# 3, 4\n",
    "p_corner = 4/6"
   ]
  },
  {
   "cell_type": "code",
   "execution_count": 3,
   "metadata": {},
   "outputs": [],
   "source": [
    "# 3 most likely, 4 is next at 3/6"
   ]
  },
  {
   "cell_type": "code",
   "execution_count": null,
   "metadata": {},
   "outputs": [],
   "source": []
  }
 ],
 "metadata": {
  "kernelspec": {
   "display_name": "Python 3",
   "language": "python",
   "name": "python3"
  },
  "language_info": {
   "codemirror_mode": {
    "name": "ipython",
    "version": 3
   },
   "file_extension": ".py",
   "mimetype": "text/x-python",
   "name": "python",
   "nbconvert_exporter": "python",
   "pygments_lexer": "ipython3",
   "version": "3.8.5"
  }
 },
 "nbformat": 4,
 "nbformat_minor": 4
}
